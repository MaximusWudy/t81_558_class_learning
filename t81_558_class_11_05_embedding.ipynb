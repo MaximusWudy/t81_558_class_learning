{
 "cells": [
  {
   "cell_type": "markdown",
   "metadata": {
    "id": "hRuM9Pg2oBZQ"
   },
   "source": [
    "<a href=\"https://colab.research.google.com/github/jeffheaton/t81_558_deep_learning/blob/master/t81_558_class_11_05_embedding.ipynb\" target=\"_parent\"><img src=\"https://colab.research.google.com/assets/colab-badge.svg\" alt=\"Open In Colab\"/></a>\n"
   ]
  },
  {
   "cell_type": "markdown",
   "metadata": {
    "id": "nPIDsF57oBZR"
   },
   "source": [
    "# T81-558: Applications of Deep Neural Networks\n",
    "**Module 11: Natural Language Processing and Speech Recognition**\n",
    "* Instructor: [Jeff Heaton](https://sites.wustl.edu/jeffheaton/), McKelvey School of Engineering, [Washington University in St. Louis](https://engineering.wustl.edu/Programs/Pages/default.aspx)\n",
    "* For more information visit the [class website](https://sites.wustl.edu/jeffheaton/t81-558/)."
   ]
  },
  {
   "cell_type": "markdown",
   "metadata": {
    "id": "4iEXcrLBoBZS"
   },
   "source": [
    "# Module 11 Material\n",
    "\n",
    "* Part 11.1: Introduction to Hugging Face [[Video]](https://www.youtube.com/watch?v=1IHXSbz02XM&list=PLjy4p-07OYzulelvJ5KVaT2pDlxivl_BN) [[Notebook]](https://github.com/jeffheaton/t81_558_deep_learning/blob/master/t81_558_class_11_01_huggingface.ipynb)\n",
    "* Part 11.2: Hugging Face Tokenizers [[Video]](https://www.youtube.com/watch?v=U-EGU1RyChg&list=PLjy4p-07OYzulelvJ5KVaT2pDlxivl_BN) [[Notebook]](https://github.com/jeffheaton/t81_558_deep_learning/blob/master/t81_558_class_11_02_tokenizers.ipynb)\n",
    "* Part 11.3: Hugging Face Datasets [[Video]](https://www.youtube.com/watch?v=Mq5ODegT17M&list=PLjy4p-07OYzulelvJ5KVaT2pDlxivl_BN) [[Notebook]](https://github.com/jeffheaton/t81_558_deep_learning/blob/master/t81_558_class_11_03_hf_datasets.ipynb)\n",
    "* Part 11.4: Training Hugging Face Models [[Video]](https://www.youtube.com/watch?v=https://www.youtube.com/watch?v=l69ov6b7DOM&list=PLjy4p-07OYzulelvJ5KVaT2pDlxivl_BN) [[Notebook]](https://github.com/jeffheaton/t81_558_deep_learning/blob/master/t81_558_class_11_04_hf_train.ipynb)\n",
    "* **Part 11.5: What are Embedding Layers in Keras** [[Video]](https://www.youtube.com/watch?v=OuNH5kT-aD0list=PLjy4p-07OYzulelvJ5KVaT2pDlxivl_BN&index=58) [[Notebook]](https://github.com/jeffheaton/t81_558_deep_learning/blob/master/t81_558_class_11_05_embedding.ipynb)"
   ]
  },
  {
   "cell_type": "markdown",
   "metadata": {
    "id": "92qJtJOToBZS"
   },
   "source": [
    "# Google CoLab Instructions\n",
    "\n",
    "The following code ensures that Google CoLab is running the correct version of TensorFlow."
   ]
  },
  {
   "cell_type": "code",
   "execution_count": 1,
   "metadata": {
    "colab": {
     "base_uri": "https://localhost:8080/"
    },
    "id": "LvTVJyBMoBZS",
    "outputId": "13a4c525-a091-4ede-98dc-b814c34e0f44"
   },
   "outputs": [
    {
     "name": "stdout",
     "output_type": "stream",
     "text": [
      "Note: not using Google CoLab\n"
     ]
    }
   ],
   "source": [
    "try:\n",
    "    %tensorflow_version 2.x\n",
    "    COLAB = True\n",
    "    print(\"Note: using Google CoLab\")\n",
    "except:\n",
    "    print(\"Note: not using Google CoLab\")\n",
    "    COLAB = False"
   ]
  },
  {
   "cell_type": "markdown",
   "metadata": {
    "id": "wTUM5nqjoBZT"
   },
   "source": [
    "# Part 11.5: What are Embedding Layers in Keras\n",
    "\n",
    "[Embedding Layers](https://keras.io/layers/embeddings/) are a handy feature of Keras that allows the program to automatically insert additional information into the data flow of your neural network. In the previous section, you saw that Word2Vec could expand words to a 300 dimension vector. An embedding layer would automatically allow you to insert these 300-dimension vectors in the place of word indexes.  \n",
    "\n",
    "Programmers often use embedding layers with Natural Language Processing (NLP); however, you can use these layers when you wish to insert a lengthier vector in an index value place. In some ways, you can think of an embedding layer as dimension expansion. However, the hope is that these additional dimensions provide more information to the model and provide a better score.\n",
    "\n",
    "## Simple Embedding Layer Example\n",
    "\n",
    "* **input_dim** = How large is the vocabulary?  How many categories are you encoding? This parameter is the number of items in your \"lookup table.\"\n",
    "* **output_dim** = How many numbers in the vector you wish to return. \n",
    "* **input_length** = How many items are in the input feature vector that you need to transform?\n",
    "\n",
    "Now we create a neural network with a vocabulary size of 10, which will reduce those values between 0-9 to 4 number vectors. This neural network does nothing more than passing the embedding on to the output. But it does let us see what the embedding is doing. Each feature vector coming in will have two such features."
   ]
  },
  {
   "cell_type": "code",
   "execution_count": 2,
   "metadata": {
    "id": "CZk4DnzDoBZU"
   },
   "outputs": [],
   "source": [
    "from tensorflow.keras.models import Sequential\n",
    "from tensorflow.keras.layers import Embedding\n",
    "import numpy as np\n",
    "\n",
    "model = Sequential()\n",
    "embedding_layer = Embedding(input_dim=10, output_dim=4, input_length=2)\n",
    "model.add(embedding_layer)\n",
    "model.compile('adam', 'mse')\n"
   ]
  },
  {
   "cell_type": "markdown",
   "metadata": {
    "id": "eXHSrr3poBZU"
   },
   "source": [
    "Let's take a look at the structure of this neural network to see what is happening inside it."
   ]
  },
  {
   "cell_type": "code",
   "execution_count": 3,
   "metadata": {
    "colab": {
     "base_uri": "https://localhost:8080/"
    },
    "id": "kqawbb_PoBZU",
    "outputId": "72fc2a6d-0656-455a-be6a-4e235e00d35d"
   },
   "outputs": [
    {
     "name": "stdout",
     "output_type": "stream",
     "text": [
      "Model: \"sequential\"\n",
      "_________________________________________________________________\n",
      "Layer (type)                 Output Shape              Param #   \n",
      "=================================================================\n",
      "embedding (Embedding)        (None, 2, 4)              40        \n",
      "=================================================================\n",
      "Total params: 40\n",
      "Trainable params: 40\n",
      "Non-trainable params: 0\n",
      "_________________________________________________________________\n"
     ]
    }
   ],
   "source": [
    "model.summary()"
   ]
  },
  {
   "cell_type": "markdown",
   "metadata": {
    "id": "6kh6wKszoBZV"
   },
   "source": [
    "For this neural network, which is just an embedding layer, the input is a vector of size 2. These two inputs are integer numbers from 0 to 9 (corresponding to the requested input_dim quantity of 10 values). Looking at the summary above, we see that the embedding layer has 40 parameters. This value comes from the embedded lookup table that contains four amounts (output_dim) for each of the 10 (input_dim) possible integer values for the two inputs. The output is 2 (input_length) length 4 (output_dim) vectors, resulting in a total output size of 8, which corresponds to the Output Shape given in the summary above.\n",
    "\n",
    "Now, let us query the neural network with two rows. The input is two integer values, as was specified when we created the neural network."
   ]
  },
  {
   "cell_type": "code",
   "execution_count": 6,
   "metadata": {
    "colab": {
     "base_uri": "https://localhost:8080/"
    },
    "id": "iRBKtw-_oBZV",
    "outputId": "d316ef2f-dbb6-46a5-fa18-d145d9003021"
   },
   "outputs": [
    {
     "name": "stdout",
     "output_type": "stream",
     "text": [
      "(1, 2)\n",
      "[[[ 0.02101738 -0.02013984 -0.02806867  0.00443543]\n",
      "  [-0.03440484  0.00064669  0.03184089  0.00104469]]]\n"
     ]
    }
   ],
   "source": [
    "input_data = np.array([\n",
    "    [1, 2]\n",
    "])\n",
    "\n",
    "pred = model.predict(input_data)\n",
    "\n",
    "print(input_data.shape)\n",
    "print(pred)\n"
   ]
  },
  {
   "cell_type": "markdown",
   "metadata": {
    "id": "DRfFids1oBZV"
   },
   "source": [
    "Here we see two length-4 vectors that Keras looked up for each input integer. Recall that Python arrays are zero-based. Keras replaced the value of 1 with the second row of the 10 x 4 lookup matrix. Similarly, Keras returned the value of 2 by the third row of the lookup matrix. The following code displays the lookup matrix in its entirety. The embedding layer performs no mathematical operations other than inserting the correct row from the lookup table."
   ]
  },
  {
   "cell_type": "code",
   "execution_count": 7,
   "metadata": {
    "colab": {
     "base_uri": "https://localhost:8080/"
    },
    "id": "YStGrTSKoBZW",
    "outputId": "9c28d583-fa9e-472b-dd2a-e3325348b56e"
   },
   "outputs": [
    {
     "data": {
      "text/plain": [
       "[array([[ 0.04251103, -0.04279581,  0.04527957, -0.00736793],\n",
       "        [ 0.02101738, -0.02013984, -0.02806867,  0.00443543],\n",
       "        [-0.03440484,  0.00064669,  0.03184089,  0.00104469],\n",
       "        [-0.02124609, -0.04583967,  0.03996303,  0.04253609],\n",
       "        [-0.01748097,  0.02467116,  0.0236204 ,  0.04740849],\n",
       "        [ 0.01677216,  0.01539779,  0.00428078,  0.00857963],\n",
       "        [-0.01916276, -0.04157903, -0.00668179,  0.03692522],\n",
       "        [ 0.03358251,  0.03783454, -0.01265947,  0.04300578],\n",
       "        [-0.03461535, -0.01586626,  0.03669281, -0.00810329],\n",
       "        [-0.01429022,  0.04987011,  0.02880508,  0.00471246]],\n",
       "       dtype=float32)]"
      ]
     },
     "execution_count": 7,
     "metadata": {},
     "output_type": "execute_result"
    }
   ],
   "source": [
    "embedding_layer.get_weights()"
   ]
  },
  {
   "cell_type": "markdown",
   "metadata": {
    "id": "y0QLcjnwoBZW"
   },
   "source": [
    "The values above are random parameters that Keras generated as starting points.  Generally, we will transfer an embedding or train these random values into something useful.  The following section demonstrates how to embed a hand-coded embedding. \n",
    "\n",
    "## Transferring An Embedding\n",
    "\n",
    "Now, we see how to hard-code an embedding lookup that performs a simple one-hot encoding.  One-hot encoding would transform the input integer values of 0, 1, and 2 to the vectors $[1,0,0]$, $[0,1,0]$, and $[0,0,1]$ respectively. The following code replaced the random lookup values in the embedding layer with this one-hot coding-inspired lookup table."
   ]
  },
  {
   "cell_type": "code",
   "execution_count": 8,
   "metadata": {
    "id": "AIt-SWK6oBZW"
   },
   "outputs": [],
   "source": [
    "from tensorflow.keras.models import Sequential\n",
    "from tensorflow.keras.layers import Embedding\n",
    "import numpy as np\n",
    "\n",
    "embedding_lookup = np.array([\n",
    "    [1, 0, 0],\n",
    "    [0, 1, 0],\n",
    "    [0, 0, 1]\n",
    "])\n",
    "\n",
    "model = Sequential()\n",
    "embedding_layer = Embedding(input_dim=3, output_dim=3, input_length=2)\n",
    "model.add(embedding_layer)\n",
    "model.compile('adam', 'mse')\n",
    "\n",
    "embedding_layer.set_weights([embedding_lookup])\n"
   ]
  },
  {
   "cell_type": "code",
   "execution_count": 9,
   "metadata": {},
   "outputs": [
    {
     "name": "stdout",
     "output_type": "stream",
     "text": [
      "Model: \"sequential_1\"\n",
      "_________________________________________________________________\n",
      "Layer (type)                 Output Shape              Param #   \n",
      "=================================================================\n",
      "embedding_1 (Embedding)      (None, 2, 3)              9         \n",
      "=================================================================\n",
      "Total params: 9\n",
      "Trainable params: 9\n",
      "Non-trainable params: 0\n",
      "_________________________________________________________________\n"
     ]
    }
   ],
   "source": [
    "model.summary()"
   ]
  },
  {
   "cell_type": "markdown",
   "metadata": {
    "id": "oQ_bVdtkoBZW"
   },
   "source": [
    "We have the following parameters for the Embedding layer:\n",
    "    \n",
    "* input_dim=3 - There are three different integer categorical values allowed.\n",
    "* output_dim=3 - Three columns represent a categorical value with three possible values per one-hot encoding.\n",
    "* input_length=2 - The input vector has two of these categorical values.\n",
    "\n",
    "We query the neural network with two categorical values to see the lookup performed."
   ]
  },
  {
   "cell_type": "code",
   "execution_count": 10,
   "metadata": {
    "colab": {
     "base_uri": "https://localhost:8080/"
    },
    "id": "ufBqgk6joBZW",
    "outputId": "3e54206d-3c56-47b8-ab17-98b1c1111ec3"
   },
   "outputs": [
    {
     "name": "stdout",
     "output_type": "stream",
     "text": [
      "(1, 2)\n",
      "[[[1. 0. 0.]\n",
      "  [0. 1. 0.]]]\n"
     ]
    }
   ],
   "source": [
    "input_data = np.array([\n",
    "    [0, 1]\n",
    "])\n",
    "\n",
    "pred = model.predict(input_data)\n",
    "\n",
    "print(input_data.shape)\n",
    "print(pred)\n"
   ]
  },
  {
   "cell_type": "markdown",
   "metadata": {
    "id": "pX76cE9HoBZW"
   },
   "source": [
    "The given output shows that we provided the program with two rows from the one-hot encoding table. This encoding is a correct one-hot encoding for the values 0 and 1, where there are up to 3 unique values possible. \n",
    "\n",
    "The following section demonstrates how to train this embedding lookup table.\n",
    "\n",
    "## Training an Embedding\n",
    "\n",
    "First, we make use of the following imports."
   ]
  },
  {
   "cell_type": "code",
   "execution_count": 11,
   "metadata": {
    "id": "mb-nwgKhoBZX"
   },
   "outputs": [],
   "source": [
    "from numpy import array\n",
    "from tensorflow.keras.preprocessing.text import one_hot\n",
    "from tensorflow.keras.preprocessing.sequence import pad_sequences\n",
    "from tensorflow.keras.models import Sequential\n",
    "from tensorflow.keras.layers import Flatten, Embedding, Dense"
   ]
  },
  {
   "cell_type": "markdown",
   "metadata": {
    "id": "dJ7UlNZfoBZX"
   },
   "source": [
    "We create a neural network that classifies restaurant reviews according to positive or negative.  This neural network can accept strings as input, such as given here.  This code also includes positive or negative labels for each review."
   ]
  },
  {
   "cell_type": "code",
   "execution_count": 12,
   "metadata": {
    "id": "vr20wr0ZoBZX"
   },
   "outputs": [],
   "source": [
    "# Define 10 resturant reviews.\n",
    "reviews = [\n",
    "    'Never coming back!',\n",
    "    'Horrible service',\n",
    "    'Rude waitress',\n",
    "    'Cold food.',\n",
    "    'Horrible food!',\n",
    "    'Awesome',\n",
    "    'Awesome service!',\n",
    "    'Rocks!',\n",
    "    'poor work',\n",
    "    'Couldn\\'t have done better']\n",
    "\n",
    "# Define labels (1=negative, 0=positive)\n",
    "labels = array([1, 1, 1, 1, 1, 0, 0, 0, 0, 0])\n"
   ]
  },
  {
   "cell_type": "markdown",
   "metadata": {
    "id": "ID5bpFo2oBZX"
   },
   "source": [
    "Notice that the second to the last label is incorrect.  Errors such as this are not too out of the ordinary, as most training data could have some noise.\n",
    "\n",
    "We define a vocabulary size of 50 words.  Though we do not have 50 words, it is okay to use a value larger than needed.  **If there are more than 50 words, the least frequently used words in the training set are automatically dropped by the embedding layer during training.** For input, we one-hot encode the strings.  We use the TensorFlow one-hot encoding method here rather than Scikit-Learn. Scikit-learn would expand these strings to the 0's and 1's as we would typically see for dummy variables.  TensorFlow translates all words to index values and replaces each word with that index."
   ]
  },
  {
   "cell_type": "code",
   "execution_count": 13,
   "metadata": {
    "colab": {
     "base_uri": "https://localhost:8080/"
    },
    "id": "aq0ph8hYoBZX",
    "outputId": "886877b4-2ce1-48d3-bb68-61bbd5785b42"
   },
   "outputs": [
    {
     "name": "stdout",
     "output_type": "stream",
     "text": [
      "Encoded reviews: [[35, 30, 34], [8, 28], [32, 29], [34, 46], [8, 46], [31], [31, 28], [14], [39, 28], [1, 46, 3, 13]]\n"
     ]
    }
   ],
   "source": [
    "VOCAB_SIZE = 50\n",
    "encoded_reviews = [one_hot(d, VOCAB_SIZE) for d in reviews]\n",
    "print(f\"Encoded reviews: {encoded_reviews}\")\n"
   ]
  },
  {
   "cell_type": "markdown",
   "metadata": {
    "id": "XQ2VeMHGoBZX"
   },
   "source": [
    "The program one-hot encodes these reviews to word indexes; however, their lengths are different.  We pad these reviews to 4 words and truncate any words beyond the fourth word."
   ]
  },
  {
   "cell_type": "code",
   "execution_count": 14,
   "metadata": {
    "colab": {
     "base_uri": "https://localhost:8080/"
    },
    "id": "tfrvYtaBoBZX",
    "outputId": "877076a6-c379-4b4f-c94b-0db19ae4d61b"
   },
   "outputs": [
    {
     "name": "stdout",
     "output_type": "stream",
     "text": [
      "[[35 30 34  0]\n",
      " [ 8 28  0  0]\n",
      " [32 29  0  0]\n",
      " [34 46  0  0]\n",
      " [ 8 46  0  0]\n",
      " [31  0  0  0]\n",
      " [31 28  0  0]\n",
      " [14  0  0  0]\n",
      " [39 28  0  0]\n",
      " [ 1 46  3 13]]\n"
     ]
    }
   ],
   "source": [
    "MAX_LENGTH = 4\n",
    "\n",
    "padded_reviews = pad_sequences(encoded_reviews, maxlen=MAX_LENGTH,\n",
    "                               padding='post')\n",
    "print(padded_reviews)\n"
   ]
  },
  {
   "cell_type": "markdown",
   "metadata": {
    "id": "nwMJm4ztoBZX"
   },
   "source": [
    "As specified by the **padding=post** setting, each review is padded by appending zeros at the end, as specified by the **padding=post** setting.\n",
    "\n",
    "Next, we create a neural network to learn to classify these reviews. "
   ]
  },
  {
   "cell_type": "code",
   "execution_count": 15,
   "metadata": {
    "colab": {
     "base_uri": "https://localhost:8080/"
    },
    "id": "GK2yiTFRoBZX",
    "outputId": "c23f9d36-ae89-4ef6-9e1a-788f1977b918"
   },
   "outputs": [
    {
     "name": "stdout",
     "output_type": "stream",
     "text": [
      "Model: \"sequential_2\"\n",
      "_________________________________________________________________\n",
      "Layer (type)                 Output Shape              Param #   \n",
      "=================================================================\n",
      "embedding_2 (Embedding)      (None, 4, 8)              400       \n",
      "_________________________________________________________________\n",
      "flatten (Flatten)            (None, 32)                0         \n",
      "_________________________________________________________________\n",
      "dense (Dense)                (None, 1)                 33        \n",
      "=================================================================\n",
      "Total params: 433\n",
      "Trainable params: 433\n",
      "Non-trainable params: 0\n",
      "_________________________________________________________________\n",
      "None\n"
     ]
    }
   ],
   "source": [
    "model = Sequential()\n",
    "embedding_layer = Embedding(VOCAB_SIZE, 8, input_length=MAX_LENGTH)\n",
    "model.add(embedding_layer)\n",
    "model.add(Flatten()) # flatten out the dimension from previous layer\n",
    "model.add(Dense(1, activation='sigmoid'))\n",
    "model.compile(optimizer='adam', loss='binary_crossentropy',\n",
    "              metrics=['acc'])\n",
    "\n",
    "print(model.summary())\n"
   ]
  },
  {
   "cell_type": "markdown",
   "metadata": {
    "id": "jvpQk1GXoBZX"
   },
   "source": [
    "This network accepts four integer inputs that specify the indexes of a padded movie review. The first embedding layer converts these four indexes into four length vectors 8. These vectors come from the lookup table that contains 50 (VOCAB_SIZE) rows of vectors of length 8. This encoding is evident by the 400 (8 times 50) parameters in the embedding layer. The output size from the embedding layer is 32 (4 words expressed as 8-number embedded vectors). A single output neuron is connected to the embedding layer by 33 weights (32 from the embedding layer and a single bias neuron). Because this is a single-class classification network, we use the sigmoid activation function and binary_crossentropy.\n",
    "\n",
    "The program now trains the neural network. The embedding lookup and dense 33 weights are updated to produce a better score."
   ]
  },
  {
   "cell_type": "code",
   "execution_count": 16,
   "metadata": {
    "colab": {
     "base_uri": "https://localhost:8080/"
    },
    "id": "BkRJvhz7oBZY",
    "outputId": "49c3fb2f-ae02-4627-dee1-896e516eb446"
   },
   "outputs": [
    {
     "data": {
      "text/plain": [
       "<tensorflow.python.keras.callbacks.History at 0x7fdf782b30d0>"
      ]
     },
     "execution_count": 16,
     "metadata": {},
     "output_type": "execute_result"
    }
   ],
   "source": [
    "# fit the model\n",
    "model.fit(padded_reviews, labels, epochs=100, verbose=0)\n"
   ]
  },
  {
   "cell_type": "markdown",
   "metadata": {
    "id": "m8306knWoBZY"
   },
   "source": [
    "We can see the learned embeddings.  Think of each word's vector as a location in the 8 dimension space where words associated with positive reviews are close to other words.  Similarly, training places negative reviews close to each other.  In addition to the training setting these embeddings, the 33 weights between the embedding layer and output neuron similarly learn to transform these embeddings into an actual prediction.  You can see these embeddings here."
   ]
  },
  {
   "cell_type": "code",
   "execution_count": 17,
   "metadata": {
    "colab": {
     "base_uri": "https://localhost:8080/"
    },
    "id": "bt_4XhUooBZY",
    "outputId": "a1e0e5f5-ca83-45dc-ae17-9277b46ccf34"
   },
   "outputs": [
    {
     "name": "stdout",
     "output_type": "stream",
     "text": [
      "(50, 8)\n",
      "[array([[ 8.58903304e-02,  7.50397369e-02,  1.43690452e-01,\n",
      "         5.67266382e-02, -6.04411587e-02,  6.37051016e-02,\n",
      "        -1.32076174e-01,  1.04852006e-01],\n",
      "       [-8.10943842e-02, -1.10891469e-01,  1.18676975e-01,\n",
      "         8.16579014e-02, -7.63823912e-02, -9.90715101e-02,\n",
      "        -8.62976387e-02,  9.07082409e-02],\n",
      "       [-4.30999510e-02,  1.81132592e-02,  3.86239551e-02,\n",
      "         5.79845160e-04,  1.81563534e-02, -2.99944170e-02,\n",
      "        -7.29222223e-03, -2.39051338e-02],\n",
      "       [ 9.74403471e-02, -1.02580883e-01, -1.58326104e-01,\n",
      "        -9.03625861e-02,  6.17025234e-02, -1.51465684e-01,\n",
      "        -9.72977579e-02,  1.34088486e-01],\n",
      "       [ 4.15724404e-02,  4.72404063e-04, -3.26699018e-02,\n",
      "         2.11120136e-02, -4.83002067e-02,  4.45316769e-02,\n",
      "        -2.99431439e-02, -1.34394281e-02],\n",
      "       [ 1.18229613e-02, -4.76024747e-02,  2.10368671e-02,\n",
      "         5.34727424e-03, -1.30239017e-02, -2.94528157e-03,\n",
      "         2.04856284e-02, -4.20258753e-02],\n",
      "       [-2.01718565e-02,  3.28228734e-02, -2.83052921e-02,\n",
      "        -4.44231182e-03, -2.45582592e-02, -4.43797223e-02,\n",
      "         1.51933692e-02, -2.01530941e-02],\n",
      "       [-4.59520109e-02, -5.09297848e-03,  1.16246939e-03,\n",
      "        -4.10210378e-02,  3.86476256e-02,  8.65979120e-03,\n",
      "         1.66931413e-02,  2.34290101e-02],\n",
      "       [ 8.99820551e-02,  1.36487126e-01, -1.34683475e-01,\n",
      "        -9.17928144e-02,  1.43166438e-01,  1.51054204e-01,\n",
      "         1.14518374e-01, -1.68912008e-01],\n",
      "       [ 3.49930860e-02, -4.65079211e-02,  3.81034873e-02,\n",
      "         4.95159738e-02, -2.26933490e-02,  2.73185968e-03,\n",
      "         4.71346118e-02,  3.21673863e-02],\n",
      "       [ 2.65051238e-02, -4.15399447e-02,  1.37995742e-02,\n",
      "         1.40237473e-02, -9.14055109e-03,  3.58198397e-02,\n",
      "        -1.50895007e-02,  4.97565418e-03],\n",
      "       [-4.16103490e-02,  1.83200873e-02,  3.95049192e-02,\n",
      "        -1.22715160e-03,  2.77701877e-02,  2.60017626e-02,\n",
      "        -1.99990403e-02,  1.07705370e-02],\n",
      "       [ 4.88559045e-02,  3.71860340e-03, -1.92467105e-02,\n",
      "        -9.28067043e-03, -3.97854224e-02,  1.32098682e-02,\n",
      "        -3.17699835e-03,  9.76170227e-03],\n",
      "       [-1.20066397e-01, -1.12064593e-01, -1.15774363e-01,\n",
      "        -9.61224660e-02, -1.22844927e-01,  9.74195898e-02,\n",
      "        -4.88317348e-02, -1.12077504e-01],\n",
      "       [-8.84629935e-02, -1.08899556e-01,  1.07895046e-01,\n",
      "         8.67804512e-02, -6.75783232e-02, -1.25488460e-01,\n",
      "        -1.21748149e-01,  1.37208641e-01],\n",
      "       [ 2.85428762e-03,  1.85879134e-02, -1.65671594e-02,\n",
      "         1.26539804e-02, -3.09813768e-04, -4.63368744e-03,\n",
      "         2.11742558e-02,  4.66319062e-02],\n",
      "       [ 1.29262470e-02,  5.70832565e-03,  4.06916998e-02,\n",
      "         4.05548252e-02, -2.84603965e-02, -1.39317736e-02,\n",
      "        -3.53926644e-02, -1.80710070e-02],\n",
      "       [-4.07435670e-02,  3.44239175e-04,  4.07694243e-02,\n",
      "         6.26596063e-03, -2.40819100e-02,  3.18127759e-02,\n",
      "        -2.87364256e-02, -3.93119827e-02],\n",
      "       [ 2.02402212e-02, -4.18923497e-02,  6.78794459e-03,\n",
      "        -1.65936127e-02, -1.74312480e-02, -1.11463666e-02,\n",
      "         3.41391303e-02,  8.35303217e-03],\n",
      "       [-1.89882517e-02,  4.05514576e-02,  1.08606592e-02,\n",
      "         1.75571479e-02, -2.62271240e-03, -2.72882339e-02,\n",
      "         2.61106826e-02,  3.09066661e-02],\n",
      "       [-8.21866840e-03,  1.80852450e-02,  3.47354747e-02,\n",
      "         1.24456733e-03, -4.35668826e-02,  1.96991228e-02,\n",
      "         3.44322212e-02,  4.65465523e-02],\n",
      "       [ 4.54740599e-03, -4.34874557e-02, -3.84663418e-03,\n",
      "        -3.16907987e-02,  2.57438309e-02, -8.95764679e-03,\n",
      "         8.91339034e-04, -1.65135637e-02],\n",
      "       [ 1.61960013e-02, -6.68214634e-03, -4.58382852e-02,\n",
      "        -1.66375861e-02, -7.23146275e-03,  2.62960047e-03,\n",
      "        -3.81203517e-02, -1.64745077e-02],\n",
      "       [ 6.38582557e-03,  1.22503862e-02, -2.85322554e-02,\n",
      "        -1.57558918e-03, -4.55364846e-02,  4.03482057e-02,\n",
      "         1.99065916e-02, -2.80170441e-02],\n",
      "       [-4.09807675e-02,  4.00217623e-03, -2.02809703e-02,\n",
      "        -2.96844244e-02,  4.49245460e-02,  1.53839104e-02,\n",
      "         3.44126858e-02,  2.64131911e-02],\n",
      "       [-2.10847389e-02,  1.82495601e-02, -4.08904068e-02,\n",
      "        -3.91317979e-02,  1.64833702e-02,  2.41356604e-02,\n",
      "        -5.61881810e-04, -2.05282569e-02],\n",
      "       [ 3.81109007e-02,  1.45013444e-02,  4.07041796e-02,\n",
      "        -1.04295723e-02,  4.05966155e-02,  4.12153341e-02,\n",
      "        -3.16044837e-02, -3.43187600e-02],\n",
      "       [-2.60122661e-02,  2.81267241e-03,  9.51110199e-03,\n",
      "         1.01337917e-02, -2.69642361e-02, -2.11701524e-02,\n",
      "        -4.25904058e-02,  2.10549869e-02],\n",
      "       [ 7.81468153e-02, -1.50985971e-01,  1.07188016e-01,\n",
      "         3.23843360e-02, -4.53913398e-02,  1.36555582e-01,\n",
      "        -1.32382989e-01,  1.33027539e-01],\n",
      "       [-1.43995434e-01,  1.42658532e-01, -8.85799006e-02,\n",
      "        -4.51982282e-02,  9.39645767e-02, -8.96222070e-02,\n",
      "         1.38805419e-01, -1.15541130e-01],\n",
      "       [-1.06991366e-01,  8.58173072e-02, -1.19415961e-01,\n",
      "        -6.75199181e-02,  1.23303197e-01, -1.24280982e-01,\n",
      "         1.30382687e-01, -6.53114244e-02],\n",
      "       [-6.65697232e-02, -1.24143794e-01,  1.28043517e-01,\n",
      "         1.23828135e-01, -7.79523104e-02, -1.25775650e-01,\n",
      "        -7.19957873e-02,  1.60989985e-01],\n",
      "       [ 6.06865920e-02,  8.98895860e-02, -1.25954956e-01,\n",
      "        -9.24626365e-02,  6.86508715e-02,  7.18178228e-02,\n",
      "         1.14957839e-01, -8.73897299e-02],\n",
      "       [ 1.25166662e-02, -1.71374902e-02, -4.87089157e-02,\n",
      "         4.43595387e-02,  2.24961303e-02,  3.21936347e-02,\n",
      "        -4.80327494e-02, -2.76102908e-02],\n",
      "       [-1.42885149e-01,  9.18438807e-02, -6.70481920e-02,\n",
      "         6.67947531e-02, -8.84360224e-02,  1.30120233e-01,\n",
      "         1.21790960e-01, -8.65031034e-02],\n",
      "       [ 4.49085757e-02,  5.90614043e-02, -4.93717864e-02,\n",
      "        -1.03100181e-01,  1.00429825e-01,  6.75989091e-02,\n",
      "         1.38440624e-01, -8.80531520e-02],\n",
      "       [ 1.18771568e-02,  1.45377554e-02, -3.44637744e-02,\n",
      "         1.89583376e-03, -3.24564725e-02, -1.02283470e-02,\n",
      "        -3.86743322e-02, -4.59078215e-02],\n",
      "       [ 1.28458850e-02, -2.08126381e-03,  6.40243292e-03,\n",
      "        -1.58992298e-02, -4.85782623e-02, -2.79145129e-02,\n",
      "        -6.44702837e-03, -3.80739570e-02],\n",
      "       [ 2.55757459e-02, -2.62843445e-03,  2.77939104e-02,\n",
      "         2.54290365e-02, -4.05232906e-02,  4.58583347e-02,\n",
      "        -4.41959277e-02,  9.08473879e-03],\n",
      "       [-5.83232157e-02, -6.92300647e-02,  8.25380832e-02,\n",
      "         1.57311276e-01, -9.68468115e-02, -7.42904991e-02,\n",
      "        -1.49062067e-01,  1.64330527e-01],\n",
      "       [ 6.78159297e-04,  1.80670507e-02,  3.91252153e-02,\n",
      "         8.09784979e-03, -1.90919284e-02, -4.14366238e-02,\n",
      "        -3.63290086e-02,  2.35593803e-02],\n",
      "       [ 2.62561552e-02, -2.20733527e-02,  4.61643822e-02,\n",
      "         2.95551531e-02, -4.16308641e-03,  3.55355255e-02,\n",
      "        -4.41137813e-02,  3.24816816e-02],\n",
      "       [ 4.91085313e-02, -3.36210877e-02, -8.92238691e-03,\n",
      "         2.36928947e-02,  1.18788332e-03,  3.35508250e-02,\n",
      "        -1.60741322e-02, -3.15630585e-02],\n",
      "       [ 4.24846672e-02, -1.03689544e-02,  3.09332274e-02,\n",
      "        -9.87551361e-03, -1.63504370e-02, -1.98822375e-02,\n",
      "         2.46416070e-02,  2.16683038e-02],\n",
      "       [ 4.39530946e-02, -2.45637652e-02,  1.90965198e-02,\n",
      "         1.72454119e-03, -2.80440692e-02, -2.59621274e-02,\n",
      "         3.32530625e-02,  4.29030769e-02],\n",
      "       [ 2.33145691e-02, -3.93182859e-02, -2.05588229e-02,\n",
      "         2.21324451e-02,  3.02951969e-02,  4.49965261e-02,\n",
      "        -1.12504959e-02, -6.86464459e-03],\n",
      "       [-1.19675875e-01,  9.24787447e-02, -1.37313321e-01,\n",
      "        -4.45040576e-02,  1.29123077e-01, -1.33301377e-01,\n",
      "         9.61021706e-02, -1.38493270e-01],\n",
      "       [-2.97763348e-02, -1.36530772e-02,  7.89015368e-03,\n",
      "         2.69224755e-02,  3.27741839e-02, -3.20153013e-02,\n",
      "         4.76111807e-02,  1.45296492e-02],\n",
      "       [-2.08648574e-02, -6.24261796e-04,  4.39046696e-03,\n",
      "         2.29198448e-02,  3.56479622e-02, -3.10731884e-02,\n",
      "         4.51691039e-02,  3.61355655e-02],\n",
      "       [-3.48918661e-02, -2.73289531e-03, -4.91782539e-02,\n",
      "        -3.35609801e-02, -3.91716585e-02, -2.10759640e-02,\n",
      "         1.32977962e-04,  2.73347236e-02]], dtype=float32)]\n"
     ]
    }
   ],
   "source": [
    "print(embedding_layer.get_weights()[0].shape)\n",
    "print(embedding_layer.get_weights())\n"
   ]
  },
  {
   "cell_type": "markdown",
   "metadata": {
    "id": "X7sIWHLvoBZY"
   },
   "source": [
    "We can now evaluate this neural network's accuracy, including the embeddings and the learned dense layer.  "
   ]
  },
  {
   "cell_type": "code",
   "execution_count": 18,
   "metadata": {
    "colab": {
     "base_uri": "https://localhost:8080/"
    },
    "id": "of3oQrPxoBZY",
    "outputId": "d33fc5a1-97bc-4b55-ed99-f2ed4a7e3999"
   },
   "outputs": [
    {
     "name": "stdout",
     "output_type": "stream",
     "text": [
      "Accuracy: 1.0\n"
     ]
    }
   ],
   "source": [
    "loss, accuracy = model.evaluate(padded_reviews, labels, verbose=0)\n",
    "print(f'Accuracy: {accuracy}')\n"
   ]
  },
  {
   "cell_type": "markdown",
   "metadata": {
    "id": "PMmvVz92oBZY"
   },
   "source": [
    "The accuracy is a perfect 1.0, indicating there is likely overfitting. It would be good to use early stopping to not overfit for a more complex data set."
   ]
  },
  {
   "cell_type": "code",
   "execution_count": 19,
   "metadata": {
    "colab": {
     "base_uri": "https://localhost:8080/"
    },
    "id": "DkkNptWOoBZY",
    "outputId": "38c38dfa-d4fa-4728-b507-2157d0ce5ed4"
   },
   "outputs": [
    {
     "name": "stdout",
     "output_type": "stream",
     "text": [
      "Log-loss: 0.48572057485580444\n"
     ]
    }
   ],
   "source": [
    "print(f'Log-loss: {loss}')\n"
   ]
  },
  {
   "cell_type": "markdown",
   "metadata": {
    "id": "X7pZXMn7oBZY"
   },
   "source": [
    "However, the loss is not perfect. Even though the predicted probabilities indicated a correct prediction in every case, the program did not achieve absolute confidence in each correct answer. The lack of confidence was likely due to the small amount of noise (previously discussed) in the data set. Some words that appeared in both positive and negative reviews contributed to this lack of absolute certainty. "
   ]
  },
  {
   "cell_type": "code",
   "execution_count": null,
   "metadata": {
    "id": "pgiWS_dMoBZY"
   },
   "outputs": [],
   "source": []
  }
 ],
 "metadata": {
  "anaconda-cloud": {},
  "colab": {
   "collapsed_sections": [],
   "name": "t81_558_class_11_05_embedding.ipynb",
   "provenance": []
  },
  "kernelspec": {
   "display_name": "tensorflow",
   "language": "python",
   "name": "python3"
  },
  "language_info": {
   "codemirror_mode": {
    "name": "ipython",
    "version": 3
   },
   "file_extension": ".py",
   "mimetype": "text/x-python",
   "name": "python",
   "nbconvert_exporter": "python",
   "pygments_lexer": "ipython3",
   "version": "3.8.18"
  },
  "varInspector": {
   "cols": {
    "lenName": 16,
    "lenType": 16,
    "lenVar": 40
   },
   "kernels_config": {
    "python": {
     "delete_cmd_postfix": "",
     "delete_cmd_prefix": "del ",
     "library": "var_list.py",
     "varRefreshCmd": "print(var_dic_list())"
    },
    "r": {
     "delete_cmd_postfix": ") ",
     "delete_cmd_prefix": "rm(",
     "library": "var_list.r",
     "varRefreshCmd": "cat(var_dic_list()) "
    }
   },
   "types_to_exclude": [
    "module",
    "function",
    "builtin_function_or_method",
    "instance",
    "_Feature"
   ],
   "window_display": false
  }
 },
 "nbformat": 4,
 "nbformat_minor": 1
}

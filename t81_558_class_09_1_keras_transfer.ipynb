{
 "cells": [
  {
   "cell_type": "markdown",
   "metadata": {
    "id": "Ht3sZclXu-GP"
   },
   "source": [
    "<a href=\"https://colab.research.google.com/github/jeffheaton/t81_558_deep_learning/blob/master/t81_558_class_09_1_keras_transfer.ipynb\" target=\"_parent\"><img src=\"https://colab.research.google.com/assets/colab-badge.svg\" alt=\"Open In Colab\"/></a>"
   ]
  },
  {
   "cell_type": "markdown",
   "metadata": {
    "id": "q2BV1TL0u-GR"
   },
   "source": [
    "# T81-558: Applications of Deep Neural Networks\n",
    "**Module 9: Transfer Learning**\n",
    "* Instructor: [Jeff Heaton](https://sites.wustl.edu/jeffheaton/), McKelvey School of Engineering, [Washington University in St. Louis](https://engineering.wustl.edu/Programs/Pages/default.aspx)\n",
    "* For more information visit the [class website](https://sites.wustl.edu/jeffheaton/t81-558/)."
   ]
  },
  {
   "cell_type": "markdown",
   "metadata": {
    "id": "nSeaIPICu-GS"
   },
   "source": [
    "# Module 9 Material\n",
    "\n",
    "* **Part 9.1: Introduction to Keras Transfer Learning** [[Video]](https://www.youtube.com/watch?v=AtoeoNwmd7w&list=PLjy4p-07OYzulelvJ5KVaT2pDlxivl_BN) [[Notebook]](https://github.com/jeffheaton/t81_558_deep_learning/blob/master/t81_558_class_09_1_keras_transfer.ipynb)\n",
    "* Part 9.2: Keras Transfer Learning for Computer Vision [[Video]](https://www.youtube.com/watch?v=nXcz0V5SfYw&list=PLjy4p-07OYzulelvJ5KVaT2pDlxivl_BN) [[Notebook]](https://github.com/jeffheaton/t81_558_deep_learning/blob/master/t81_558_class_09_2_keras_xfer_cv.ipynb)\n",
    "* Part 9.3: Transfer Learning for NLP with Keras [[Video]](https://www.youtube.com/watch?v=PyRsjwLHgAU&list=PLjy4p-07OYzulelvJ5KVaT2pDlxivl_BN) [[Notebook]](https://github.com/jeffheaton/t81_558_deep_learning/blob/master/t81_558_class_09_3_transfer_nlp.ipynb)\n",
    "* Part 9.4: Transfer Learning for Facial Feature Recognition [[Video]](https://www.youtube.com/watch?v=uUZg33DfCls&list=PLjy4p-07OYzulelvJ5KVaT2pDlxivl_BN) [[Notebook]](https://github.com/jeffheaton/t81_558_deep_learning/blob/master/t81_558_class_09_4_facial_points.ipynb)\n",
    "* Part 9.5: Transfer Learning for Style Transfer [[Video]](https://www.youtube.com/watch?v=pLWIaQwkJwU&list=PLjy4p-07OYzulelvJ5KVaT2pDlxivl_BN) [[Notebook]](https://github.com/jeffheaton/t81_558_deep_learning/blob/master/t81_558_class_09_5_style_transfer.ipynb)"
   ]
  },
  {
   "cell_type": "markdown",
   "metadata": {
    "id": "gyyeB513u-GS"
   },
   "source": [
    "# Google CoLab Instructions\n",
    "\n",
    "The following code ensures that Google CoLab is running the correct version of TensorFlow."
   ]
  },
  {
   "cell_type": "code",
   "execution_count": null,
   "metadata": {
    "id": "Okmp94eLu-GS",
    "outputId": "7fbd44ba-256a-4645-9a46-7ffc3ace8f31"
   },
   "outputs": [
    {
     "name": "stdout",
     "output_type": "stream",
     "text": [
      "Note: not using Google CoLab\n"
     ]
    }
   ],
   "source": [
    "# Start CoLab\n",
    "try:\n",
    "    %tensorflow_version 2.x\n",
    "    COLAB = True\n",
    "    print(\"Note: using Google CoLab\")\n",
    "except:\n",
    "    print(\"Note: not using Google CoLab\")\n",
    "    COLAB = False"
   ]
  },
  {
   "cell_type": "markdown",
   "metadata": {
    "id": "NE0HusRwu-GT"
   },
   "source": [
    "# Part 9.1: Introduction to Keras Transfer Learning\n",
    "\n",
    "Human beings learn new skills throughout their entire lives. However, this learning is rarely from scratch. No matter what task a human learns, they are most likely drawing on experiences to learn this new skill early in life. In this way, humans learn much differently than most deep learning projects. \n",
    "\n",
    "A human being learns to tell the difference between a cat and a dog at some point. To teach a neural network, you would obtain many cat pictures and dog pictures. The neural network would iterate over all of these pictures and train on the differences. The human child that learned to distinguish between the two animals would probably need to see a few examples when parents told them the name of each type of animal. The human child would use previous knowledge of looking at different living and non-living objects to help make this classification. The child would already know the physical appearance of sub-objects, such as fur, eyes, ears, noses, tails, and teeth.\n",
    "\n",
    "Transfer learning attempts to teach a neural network by similar means. Rather than training your neural network from scratch, you begin training with a preloaded set of weights. Usually, you will remove the topmost layers of the pretrained neural network and retrain it with new uppermost layers. The layers from the previous neural network will be locked so that training does not change these weights. Only the newly added layers will be trained.  \n",
    "\n",
    "It can take much computing power to train a neural network for a large image dataset. Google, Facebook, Microsoft, and other tech companies have utilized GPU arrays for training high-quality neural networks for various applications. Transferring these weights into your neural network can save considerable effort and compute time. It is unlikely that a pretrained model will exactly fit the application that you seek to implement. Finding the closest pretrained model and using transfer learning is essential for a deep learning engineer.\n",
    "\n",
    "## Transfer Learning Example\n",
    "\n",
    "Let's look at a simple example of using transfer learning to build upon an imagenet neural network. We will begin by training a neural network for Fisher's Iris Dataset. This network takes four measurements and classifies each observation into three iris species. However, what if later we received a data set that included the four measurements, plus a cost as the target? This dataset does not contain the species; as a result, it uses the same four inputs as the base model we just trained.\n",
    "\n",
    "We can take our previously trained iris network and transfer the weights to a new neural network that will learn to predict the cost through transfer learning. Also of note, the original neural network was a classification network, yet we now use it to build a regression neural network. Such a transformation is common for transfer learning. As a reference point, I randomly created this iris cost dataset.\n",
    "\n",
    "The first step is to train our neural network for the regular Iris Dataset. The code presented here is the same as we saw in Module 3."
   ]
  },
  {
   "cell_type": "code",
   "execution_count": 1,
   "metadata": {
    "colab": {
     "base_uri": "https://localhost:8080/"
    },
    "id": "gU7hrCGku-GU",
    "outputId": "e7510576-dbdf-41eb-9088-9b78dafc522f"
   },
   "outputs": [
    {
     "name": "stdout",
     "output_type": "stream",
     "text": [
      "Epoch 1/100\n",
      "5/5 - 0s - loss: 1.2009\n",
      "Epoch 2/100\n",
      "5/5 - 0s - loss: 1.0776\n",
      "Epoch 3/100\n",
      "5/5 - 0s - loss: 0.9786\n",
      "Epoch 4/100\n",
      "5/5 - 0s - loss: 0.9246\n",
      "Epoch 5/100\n",
      "5/5 - 0s - loss: 0.8740\n",
      "Epoch 6/100\n",
      "5/5 - 0s - loss: 0.8282\n",
      "Epoch 7/100\n",
      "5/5 - 0s - loss: 0.7807\n",
      "Epoch 8/100\n",
      "5/5 - 0s - loss: 0.7353\n",
      "Epoch 9/100\n",
      "5/5 - 0s - loss: 0.6987\n",
      "Epoch 10/100\n",
      "5/5 - 0s - loss: 0.6602\n",
      "Epoch 11/100\n",
      "5/5 - 0s - loss: 0.6252\n",
      "Epoch 12/100\n",
      "5/5 - 0s - loss: 0.5918\n",
      "Epoch 13/100\n",
      "5/5 - 0s - loss: 0.5647\n",
      "Epoch 14/100\n",
      "5/5 - 0s - loss: 0.5385\n",
      "Epoch 15/100\n",
      "5/5 - 0s - loss: 0.5111\n",
      "Epoch 16/100\n",
      "5/5 - 0s - loss: 0.4879\n",
      "Epoch 17/100\n",
      "5/5 - 0s - loss: 0.4703\n",
      "Epoch 18/100\n",
      "5/5 - 0s - loss: 0.4532\n",
      "Epoch 19/100\n",
      "5/5 - 0s - loss: 0.4304\n",
      "Epoch 20/100\n",
      "5/5 - 0s - loss: 0.4150\n",
      "Epoch 21/100\n",
      "5/5 - 0s - loss: 0.4014\n",
      "Epoch 22/100\n",
      "5/5 - 0s - loss: 0.3866\n",
      "Epoch 23/100\n",
      "5/5 - 0s - loss: 0.3745\n",
      "Epoch 24/100\n",
      "5/5 - 0s - loss: 0.3614\n",
      "Epoch 25/100\n",
      "5/5 - 0s - loss: 0.3459\n",
      "Epoch 26/100\n",
      "5/5 - 0s - loss: 0.3317\n",
      "Epoch 27/100\n",
      "5/5 - 0s - loss: 0.3184\n",
      "Epoch 28/100\n",
      "5/5 - 0s - loss: 0.3085\n",
      "Epoch 29/100\n",
      "5/5 - 0s - loss: 0.2988\n",
      "Epoch 30/100\n",
      "5/5 - 0s - loss: 0.2868\n",
      "Epoch 31/100\n",
      "5/5 - 0s - loss: 0.2787\n",
      "Epoch 32/100\n",
      "5/5 - 0s - loss: 0.2688\n",
      "Epoch 33/100\n",
      "5/5 - 0s - loss: 0.2595\n",
      "Epoch 34/100\n",
      "5/5 - 0s - loss: 0.2536\n",
      "Epoch 35/100\n",
      "5/5 - 0s - loss: 0.2448\n",
      "Epoch 36/100\n",
      "5/5 - 0s - loss: 0.2370\n",
      "Epoch 37/100\n",
      "5/5 - 0s - loss: 0.2294\n",
      "Epoch 38/100\n",
      "5/5 - 0s - loss: 0.2231\n",
      "Epoch 39/100\n",
      "5/5 - 0s - loss: 0.2159\n",
      "Epoch 40/100\n",
      "5/5 - 0s - loss: 0.2105\n",
      "Epoch 41/100\n",
      "5/5 - 0s - loss: 0.2044\n",
      "Epoch 42/100\n",
      "5/5 - 0s - loss: 0.1993\n",
      "Epoch 43/100\n",
      "5/5 - 0s - loss: 0.1920\n",
      "Epoch 44/100\n",
      "5/5 - 0s - loss: 0.1892\n",
      "Epoch 45/100\n",
      "5/5 - 0s - loss: 0.1820\n",
      "Epoch 46/100\n",
      "5/5 - 0s - loss: 0.1786\n",
      "Epoch 47/100\n",
      "5/5 - 0s - loss: 0.1742\n",
      "Epoch 48/100\n",
      "5/5 - 0s - loss: 0.1689\n",
      "Epoch 49/100\n",
      "5/5 - 0s - loss: 0.1654\n",
      "Epoch 50/100\n",
      "5/5 - 0s - loss: 0.1671\n",
      "Epoch 51/100\n",
      "5/5 - 0s - loss: 0.1604\n",
      "Epoch 52/100\n",
      "5/5 - 0s - loss: 0.1562\n",
      "Epoch 53/100\n",
      "5/5 - 0s - loss: 0.1527\n",
      "Epoch 54/100\n",
      "5/5 - 0s - loss: 0.1472\n",
      "Epoch 55/100\n",
      "5/5 - 0s - loss: 0.1456\n",
      "Epoch 56/100\n",
      "5/5 - 0s - loss: 0.1416\n",
      "Epoch 57/100\n",
      "5/5 - 0s - loss: 0.1384\n",
      "Epoch 58/100\n",
      "5/5 - 0s - loss: 0.1365\n",
      "Epoch 59/100\n",
      "5/5 - 0s - loss: 0.1334\n",
      "Epoch 60/100\n",
      "5/5 - 0s - loss: 0.1318\n",
      "Epoch 61/100\n",
      "5/5 - 0s - loss: 0.1294\n",
      "Epoch 62/100\n",
      "5/5 - 0s - loss: 0.1273\n",
      "Epoch 63/100\n",
      "5/5 - 0s - loss: 0.1242\n",
      "Epoch 64/100\n",
      "5/5 - 0s - loss: 0.1267\n",
      "Epoch 65/100\n",
      "5/5 - 0s - loss: 0.1199\n",
      "Epoch 66/100\n",
      "5/5 - 0s - loss: 0.1202\n",
      "Epoch 67/100\n",
      "5/5 - 0s - loss: 0.1172\n",
      "Epoch 68/100\n",
      "5/5 - 0s - loss: 0.1167\n",
      "Epoch 69/100\n",
      "5/5 - 0s - loss: 0.1152\n",
      "Epoch 70/100\n",
      "5/5 - 0s - loss: 0.1156\n",
      "Epoch 71/100\n",
      "5/5 - 0s - loss: 0.1104\n",
      "Epoch 72/100\n",
      "5/5 - 0s - loss: 0.1082\n",
      "Epoch 73/100\n",
      "5/5 - 0s - loss: 0.1060\n",
      "Epoch 74/100\n",
      "5/5 - 0s - loss: 0.1047\n",
      "Epoch 75/100\n",
      "5/5 - 0s - loss: 0.1064\n",
      "Epoch 76/100\n",
      "5/5 - 0s - loss: 0.1045\n",
      "Epoch 77/100\n",
      "5/5 - 0s - loss: 0.1013\n",
      "Epoch 78/100\n",
      "5/5 - 0s - loss: 0.1008\n",
      "Epoch 79/100\n",
      "5/5 - 0s - loss: 0.0961\n",
      "Epoch 80/100\n",
      "5/5 - 0s - loss: 0.1001\n",
      "Epoch 81/100\n",
      "5/5 - 0s - loss: 0.0967\n",
      "Epoch 82/100\n",
      "5/5 - 0s - loss: 0.0973\n",
      "Epoch 83/100\n",
      "5/5 - 0s - loss: 0.0935\n",
      "Epoch 84/100\n",
      "5/5 - 0s - loss: 0.0968\n",
      "Epoch 85/100\n",
      "5/5 - 0s - loss: 0.0924\n",
      "Epoch 86/100\n",
      "5/5 - 0s - loss: 0.0944\n",
      "Epoch 87/100\n",
      "5/5 - 0s - loss: 0.0939\n",
      "Epoch 88/100\n",
      "5/5 - 0s - loss: 0.0904\n",
      "Epoch 89/100\n",
      "5/5 - 0s - loss: 0.0881\n",
      "Epoch 90/100\n",
      "5/5 - 0s - loss: 0.0916\n",
      "Epoch 91/100\n",
      "5/5 - 0s - loss: 0.0877\n",
      "Epoch 92/100\n",
      "5/5 - 0s - loss: 0.0874\n",
      "Epoch 93/100\n",
      "5/5 - 0s - loss: 0.0849\n",
      "Epoch 94/100\n",
      "5/5 - 0s - loss: 0.0855\n",
      "Epoch 95/100\n",
      "5/5 - 0s - loss: 0.0839\n",
      "Epoch 96/100\n",
      "5/5 - 0s - loss: 0.0844\n",
      "Epoch 97/100\n",
      "5/5 - 0s - loss: 0.0827\n",
      "Epoch 98/100\n",
      "5/5 - 0s - loss: 0.0851\n",
      "Epoch 99/100\n",
      "5/5 - 0s - loss: 0.0872\n",
      "Epoch 100/100\n",
      "5/5 - 0s - loss: 0.0809\n"
     ]
    },
    {
     "data": {
      "text/plain": [
       "<tensorflow.python.keras.callbacks.History at 0x7f05d42a8e20>"
      ]
     },
     "execution_count": 1,
     "metadata": {},
     "output_type": "execute_result"
    }
   ],
   "source": [
    "import pandas as pd\n",
    "import io\n",
    "import requests\n",
    "import numpy as np\n",
    "from sklearn import metrics\n",
    "from tensorflow.keras.models import Sequential\n",
    "from tensorflow.keras.layers import Dense, Activation\n",
    "from tensorflow.keras.callbacks import EarlyStopping\n",
    "\n",
    "df = pd.read_csv(\n",
    "    \"https://data.heatonresearch.com/data/t81-558/iris.csv\", \n",
    "    na_values=['NA', '?'])\n",
    "\n",
    "# Convert to numpy - Classification\n",
    "x = df[['sepal_l', 'sepal_w', 'petal_l', 'petal_w']].values\n",
    "dummies = pd.get_dummies(df['species']) # Classification\n",
    "species = dummies.columns\n",
    "y = dummies.values\n",
    "\n",
    "\n",
    "# Build neural network\n",
    "model = Sequential()\n",
    "model.add(Dense(50, input_dim=x.shape[1], activation='relu')) # Hidden 1\n",
    "model.add(Dense(25, activation='relu')) # Hidden 2\n",
    "model.add(Dense(y.shape[1],activation='softmax')) # Output\n",
    "\n",
    "model.compile(loss='categorical_crossentropy', optimizer='adam')\n",
    "model.fit(x,y,verbose=2,epochs=100)"
   ]
  },
  {
   "cell_type": "markdown",
   "metadata": {
    "id": "s8TRnJOUu-GV"
   },
   "source": [
    "To keep this example simple, we are not setting aside a validation set.  The goal of this example is to show how to create a multi-layer neural network, where we transfer the weights to another network.  We begin by evaluating the accuracy of the network on the training set.\n"
   ]
  },
  {
   "cell_type": "code",
   "execution_count": 2,
   "metadata": {
    "colab": {
     "base_uri": "https://localhost:8080/"
    },
    "id": "ssZrMUaeu-GV",
    "outputId": "11fb4ba3-548c-444b-dff3-ea4747e9485c"
   },
   "outputs": [
    {
     "name": "stdout",
     "output_type": "stream",
     "text": [
      "Training Accuracy: 0.98\n"
     ]
    }
   ],
   "source": [
    "from sklearn.metrics import accuracy_score\n",
    "pred = model.predict(x)\n",
    "predict_classes = np.argmax(pred,axis=1)\n",
    "expected_classes = np.argmax(y,axis=1)\n",
    "correct = accuracy_score(expected_classes,predict_classes)\n",
    "print(f\"Training Accuracy: {correct}\")"
   ]
  },
  {
   "cell_type": "markdown",
   "metadata": {
    "id": "4oElXastu-GW"
   },
   "source": [
    "Viewing the model summary is as expected; we can see the three layers previously defined."
   ]
  },
  {
   "cell_type": "code",
   "execution_count": 3,
   "metadata": {
    "colab": {
     "base_uri": "https://localhost:8080/"
    },
    "id": "tc8-F-1lu-GW",
    "outputId": "2e073593-29d3-41df-fa89-5b292ac5d7ea"
   },
   "outputs": [
    {
     "name": "stdout",
     "output_type": "stream",
     "text": [
      "Model: \"sequential\"\n",
      "_________________________________________________________________\n",
      "Layer (type)                 Output Shape              Param #   \n",
      "=================================================================\n",
      "dense (Dense)                (None, 50)                250       \n",
      "_________________________________________________________________\n",
      "dense_1 (Dense)              (None, 25)                1275      \n",
      "_________________________________________________________________\n",
      "dense_2 (Dense)              (None, 3)                 78        \n",
      "=================================================================\n",
      "Total params: 1,603\n",
      "Trainable params: 1,603\n",
      "Non-trainable params: 0\n",
      "_________________________________________________________________\n"
     ]
    }
   ],
   "source": [
    "model.summary()"
   ]
  },
  {
   "cell_type": "markdown",
   "metadata": {
    "id": "RXZbvEbbu-GW"
   },
   "source": [
    "## Create a New Iris Network\n",
    "\n",
    "Now that we've trained a neural network on the iris dataset, we can transfer the knowledge of this neural network to other neural networks. It is possible to create a new neural network from some or all of the layers of this neural network. We will create a new neural network that is essentially a clone of the first neural network to demonstrate the technique. We now transfer all of the layers from the original neural network into the new one."
   ]
  },
  {
   "cell_type": "code",
   "execution_count": 4,
   "metadata": {
    "colab": {
     "base_uri": "https://localhost:8080/"
    },
    "id": "M79VumhTu-GW",
    "outputId": "a85f4f49-c15b-4595-9e93-3f078e9c8272"
   },
   "outputs": [
    {
     "name": "stdout",
     "output_type": "stream",
     "text": [
      "Model: \"sequential_1\"\n",
      "_________________________________________________________________\n",
      "Layer (type)                 Output Shape              Param #   \n",
      "=================================================================\n",
      "dense (Dense)                (None, 50)                250       \n",
      "_________________________________________________________________\n",
      "dense_1 (Dense)              (None, 25)                1275      \n",
      "_________________________________________________________________\n",
      "dense_2 (Dense)              (None, 3)                 78        \n",
      "=================================================================\n",
      "Total params: 1,603\n",
      "Trainable params: 1,603\n",
      "Non-trainable params: 0\n",
      "_________________________________________________________________\n"
     ]
    }
   ],
   "source": [
    "model2 = Sequential()\n",
    "for layer in model.layers:\n",
    "    model2.add(layer)\n",
    "model2.summary()"
   ]
  },
  {
   "cell_type": "markdown",
   "metadata": {
    "id": "-dQ7BeJ-u-GW"
   },
   "source": [
    "As a sanity check, we would like to calculate the accuracy of the newly created model.  The in-sample accuracy should be the same as the previous model that the new model transferred."
   ]
  },
  {
   "cell_type": "code",
   "execution_count": 5,
   "metadata": {
    "colab": {
     "base_uri": "https://localhost:8080/"
    },
    "id": "lzkErX1Ku-GX",
    "outputId": "11bb8875-0b8b-47f7-f840-496edacc8f74"
   },
   "outputs": [
    {
     "name": "stdout",
     "output_type": "stream",
     "text": [
      "Training Accuracy: 0.98\n"
     ]
    }
   ],
   "source": [
    "from sklearn.metrics import accuracy_score\n",
    "pred = model2.predict(x)\n",
    "predict_classes = np.argmax(pred,axis=1)\n",
    "expected_classes = np.argmax(y,axis=1)\n",
    "correct = accuracy_score(expected_classes,predict_classes)\n",
    "print(f\"Training Accuracy: {correct}\")"
   ]
  },
  {
   "cell_type": "markdown",
   "metadata": {
    "id": "6Y-0VOYvu-GX"
   },
   "source": [
    "The in-sample accuracy of the newly created neural network is the same as the first neural network. We've successfully transferred all of the layers from the original neural network.\n",
    "\n",
    "## Transfering to a Regression Network\n",
    "\n",
    "The Iris Cost Dataset has measurements for samples of these flowers that conform to the predictors contained in the original iris dataset: sepal width, sepal length, petal width, and petal length. We present the cost dataset here."
   ]
  },
  {
   "cell_type": "code",
   "execution_count": 6,
   "metadata": {
    "colab": {
     "base_uri": "https://localhost:8080/",
     "height": 424
    },
    "id": "6ZohkVGx5ukW",
    "outputId": "e4e92550-2ebb-4426-9c82-26cf27b10a51"
   },
   "outputs": [
    {
     "data": {
      "text/html": [
       "<div>\n",
       "<style scoped>\n",
       "    .dataframe tbody tr th:only-of-type {\n",
       "        vertical-align: middle;\n",
       "    }\n",
       "\n",
       "    .dataframe tbody tr th {\n",
       "        vertical-align: top;\n",
       "    }\n",
       "\n",
       "    .dataframe thead th {\n",
       "        text-align: right;\n",
       "    }\n",
       "</style>\n",
       "<table border=\"1\" class=\"dataframe\">\n",
       "  <thead>\n",
       "    <tr style=\"text-align: right;\">\n",
       "      <th></th>\n",
       "      <th>sepal_l</th>\n",
       "      <th>sepal_w</th>\n",
       "      <th>petal_l</th>\n",
       "      <th>petal_w</th>\n",
       "      <th>cost</th>\n",
       "    </tr>\n",
       "  </thead>\n",
       "  <tbody>\n",
       "    <tr>\n",
       "      <th>0</th>\n",
       "      <td>7.8</td>\n",
       "      <td>3.0</td>\n",
       "      <td>6.2</td>\n",
       "      <td>2.0</td>\n",
       "      <td>10.740</td>\n",
       "    </tr>\n",
       "    <tr>\n",
       "      <th>1</th>\n",
       "      <td>5.0</td>\n",
       "      <td>2.2</td>\n",
       "      <td>1.7</td>\n",
       "      <td>1.5</td>\n",
       "      <td>2.710</td>\n",
       "    </tr>\n",
       "    <tr>\n",
       "      <th>2</th>\n",
       "      <td>6.9</td>\n",
       "      <td>2.6</td>\n",
       "      <td>3.7</td>\n",
       "      <td>1.4</td>\n",
       "      <td>4.624</td>\n",
       "    </tr>\n",
       "    <tr>\n",
       "      <th>3</th>\n",
       "      <td>5.9</td>\n",
       "      <td>2.2</td>\n",
       "      <td>3.7</td>\n",
       "      <td>2.4</td>\n",
       "      <td>6.558</td>\n",
       "    </tr>\n",
       "    <tr>\n",
       "      <th>4</th>\n",
       "      <td>5.1</td>\n",
       "      <td>3.9</td>\n",
       "      <td>6.8</td>\n",
       "      <td>0.7</td>\n",
       "      <td>7.395</td>\n",
       "    </tr>\n",
       "    <tr>\n",
       "      <th>...</th>\n",
       "      <td>...</td>\n",
       "      <td>...</td>\n",
       "      <td>...</td>\n",
       "      <td>...</td>\n",
       "      <td>...</td>\n",
       "    </tr>\n",
       "    <tr>\n",
       "      <th>245</th>\n",
       "      <td>4.7</td>\n",
       "      <td>2.1</td>\n",
       "      <td>4.0</td>\n",
       "      <td>2.3</td>\n",
       "      <td>5.721</td>\n",
       "    </tr>\n",
       "    <tr>\n",
       "      <th>246</th>\n",
       "      <td>7.2</td>\n",
       "      <td>3.0</td>\n",
       "      <td>4.3</td>\n",
       "      <td>1.1</td>\n",
       "      <td>5.266</td>\n",
       "    </tr>\n",
       "    <tr>\n",
       "      <th>247</th>\n",
       "      <td>6.6</td>\n",
       "      <td>3.4</td>\n",
       "      <td>4.6</td>\n",
       "      <td>1.4</td>\n",
       "      <td>5.776</td>\n",
       "    </tr>\n",
       "    <tr>\n",
       "      <th>248</th>\n",
       "      <td>5.7</td>\n",
       "      <td>3.7</td>\n",
       "      <td>3.1</td>\n",
       "      <td>0.4</td>\n",
       "      <td>2.233</td>\n",
       "    </tr>\n",
       "    <tr>\n",
       "      <th>249</th>\n",
       "      <td>7.6</td>\n",
       "      <td>4.0</td>\n",
       "      <td>5.1</td>\n",
       "      <td>1.4</td>\n",
       "      <td>7.508</td>\n",
       "    </tr>\n",
       "  </tbody>\n",
       "</table>\n",
       "<p>250 rows × 5 columns</p>\n",
       "</div>"
      ],
      "text/plain": [
       "     sepal_l  sepal_w  petal_l  petal_w    cost\n",
       "0        7.8      3.0      6.2      2.0  10.740\n",
       "1        5.0      2.2      1.7      1.5   2.710\n",
       "2        6.9      2.6      3.7      1.4   4.624\n",
       "3        5.9      2.2      3.7      2.4   6.558\n",
       "4        5.1      3.9      6.8      0.7   7.395\n",
       "..       ...      ...      ...      ...     ...\n",
       "245      4.7      2.1      4.0      2.3   5.721\n",
       "246      7.2      3.0      4.3      1.1   5.266\n",
       "247      6.6      3.4      4.6      1.4   5.776\n",
       "248      5.7      3.7      3.1      0.4   2.233\n",
       "249      7.6      4.0      5.1      1.4   7.508\n",
       "\n",
       "[250 rows x 5 columns]"
      ]
     },
     "execution_count": 6,
     "metadata": {},
     "output_type": "execute_result"
    }
   ],
   "source": [
    "df_cost = pd.read_csv(\n",
    "    \"https://data.heatonresearch.com/data/t81-558/iris_cost.csv\", \n",
    "    na_values=['NA', '?'])\n",
    "\n",
    "df_cost"
   ]
  },
  {
   "cell_type": "markdown",
   "metadata": {
    "id": "31Zz7cyU6DGT"
   },
   "source": [
    "For transfer learning to be effective, the input for the newly trained neural network most closely conforms to the first neural network we transfer.\n",
    "\n",
    "We will strip away the last output layer that contains the softmax activation function that performs this final classification. We will create a new output layer that will output the cost prediction. We will only train the weights in this new layer. We will mark the first two layers as non-trainable. The hope is that the first few layers have learned to abstract the raw input data in a way that is also helpful to the new neural network.\n",
    "This process is accomplished by looping over the first few layers and copying them to the new neural network. We output a summary of the new neural network to verify that Keras stripped the previous output layer."
   ]
  },
  {
   "cell_type": "code",
   "execution_count": 7,
   "metadata": {
    "colab": {
     "base_uri": "https://localhost:8080/"
    },
    "id": "EE2mBp98u-GX",
    "outputId": "611f86a6-a890-4cfc-f6f2-c8a19597d9ba"
   },
   "outputs": [
    {
     "name": "stdout",
     "output_type": "stream",
     "text": [
      "Model: \"sequential_2\"\n",
      "_________________________________________________________________\n",
      "Layer (type)                 Output Shape              Param #   \n",
      "=================================================================\n",
      "dense (Dense)                (None, 50)                250       \n",
      "_________________________________________________________________\n",
      "dense_1 (Dense)              (None, 25)                1275      \n",
      "=================================================================\n",
      "Total params: 1,525\n",
      "Trainable params: 0\n",
      "Non-trainable params: 1,525\n",
      "_________________________________________________________________\n"
     ]
    }
   ],
   "source": [
    "model3 = Sequential()\n",
    "for i in range(2):\n",
    "    layer = model.layers[i]\n",
    "    layer.trainable = False\n",
    "    model3.add(layer)\n",
    "model3.summary()"
   ]
  },
  {
   "cell_type": "markdown",
   "metadata": {
    "id": "38iQTGH0u-GX"
   },
   "source": [
    "We add a final regression output layer to complete the new neural network."
   ]
  },
  {
   "cell_type": "code",
   "execution_count": 8,
   "metadata": {
    "colab": {
     "base_uri": "https://localhost:8080/"
    },
    "id": "pcWB19aPu-GX",
    "outputId": "ff8b7124-eef1-4221-b23c-a871ccb8d33c"
   },
   "outputs": [
    {
     "name": "stdout",
     "output_type": "stream",
     "text": [
      "Model: \"sequential_2\"\n",
      "_________________________________________________________________\n",
      "Layer (type)                 Output Shape              Param #   \n",
      "=================================================================\n",
      "dense (Dense)                (None, 50)                250       \n",
      "_________________________________________________________________\n",
      "dense_1 (Dense)              (None, 25)                1275      \n",
      "_________________________________________________________________\n",
      "dense_3 (Dense)              (None, 1)                 26        \n",
      "=================================================================\n",
      "Total params: 1,551\n",
      "Trainable params: 26\n",
      "Non-trainable params: 1,525\n",
      "_________________________________________________________________\n"
     ]
    }
   ],
   "source": [
    "model3.add(Dense(1)) # Output\n",
    "\n",
    "model3.compile(loss='mean_squared_error', optimizer='adam')\n",
    "model3.summary()"
   ]
  },
  {
   "cell_type": "markdown",
   "metadata": {
    "id": "0by_NO-9u-GX"
   },
   "source": [
    "Now we train just the output layer to predict the cost. The cost in the made-up dataset is dependent on the species, so the previous learning should be helpful."
   ]
  },
  {
   "cell_type": "code",
   "execution_count": 9,
   "metadata": {
    "colab": {
     "base_uri": "https://localhost:8080/"
    },
    "id": "sVV5IXYxu-GY",
    "outputId": "93cc7fdb-a574-48e9-e70e-dc1fc0af93d8"
   },
   "outputs": [
    {
     "name": "stdout",
     "output_type": "stream",
     "text": [
      "Epoch 1/100\n",
      "8/8 - 0s - loss: 42.3746\n",
      "Epoch 2/100\n",
      "8/8 - 0s - loss: 39.7134\n",
      "Epoch 3/100\n",
      "8/8 - 0s - loss: 37.2267\n",
      "Epoch 4/100\n",
      "8/8 - 0s - loss: 34.9217\n",
      "Epoch 5/100\n",
      "8/8 - 0s - loss: 32.6560\n",
      "Epoch 6/100\n",
      "8/8 - 0s - loss: 30.6002\n",
      "Epoch 7/100\n",
      "8/8 - 0s - loss: 28.7020\n",
      "Epoch 8/100\n",
      "8/8 - 0s - loss: 26.9478\n",
      "Epoch 9/100\n",
      "8/8 - 0s - loss: 25.2999\n",
      "Epoch 10/100\n",
      "8/8 - 0s - loss: 23.7706\n",
      "Epoch 11/100\n",
      "8/8 - 0s - loss: 22.3685\n",
      "Epoch 12/100\n",
      "8/8 - 0s - loss: 21.0477\n",
      "Epoch 13/100\n",
      "8/8 - 0s - loss: 19.9195\n",
      "Epoch 14/100\n",
      "8/8 - 0s - loss: 18.7913\n",
      "Epoch 15/100\n",
      "8/8 - 0s - loss: 17.7776\n",
      "Epoch 16/100\n",
      "8/8 - 0s - loss: 16.8265\n",
      "Epoch 17/100\n",
      "8/8 - 0s - loss: 15.9715\n",
      "Epoch 18/100\n",
      "8/8 - 0s - loss: 15.1638\n",
      "Epoch 19/100\n",
      "8/8 - 0s - loss: 14.4455\n",
      "Epoch 20/100\n",
      "8/8 - 0s - loss: 13.7473\n",
      "Epoch 21/100\n",
      "8/8 - 0s - loss: 13.1268\n",
      "Epoch 22/100\n",
      "8/8 - 0s - loss: 12.5151\n",
      "Epoch 23/100\n",
      "8/8 - 0s - loss: 11.9742\n",
      "Epoch 24/100\n",
      "8/8 - 0s - loss: 11.4608\n",
      "Epoch 25/100\n",
      "8/8 - 0s - loss: 10.9704\n",
      "Epoch 26/100\n",
      "8/8 - 0s - loss: 10.5238\n",
      "Epoch 27/100\n",
      "8/8 - 0s - loss: 10.0894\n",
      "Epoch 28/100\n",
      "8/8 - 0s - loss: 9.6954\n",
      "Epoch 29/100\n",
      "8/8 - 0s - loss: 9.2949\n",
      "Epoch 30/100\n",
      "8/8 - 0s - loss: 8.9359\n",
      "Epoch 31/100\n",
      "8/8 - 0s - loss: 8.6022\n",
      "Epoch 32/100\n",
      "8/8 - 0s - loss: 8.2762\n",
      "Epoch 33/100\n",
      "8/8 - 0s - loss: 7.9605\n",
      "Epoch 34/100\n",
      "8/8 - 0s - loss: 7.6565\n",
      "Epoch 35/100\n",
      "8/8 - 0s - loss: 7.3778\n",
      "Epoch 36/100\n",
      "8/8 - 0s - loss: 7.1042\n",
      "Epoch 37/100\n",
      "8/8 - 0s - loss: 6.8418\n",
      "Epoch 38/100\n",
      "8/8 - 0s - loss: 6.5974\n",
      "Epoch 39/100\n",
      "8/8 - 0s - loss: 6.3608\n",
      "Epoch 40/100\n",
      "8/8 - 0s - loss: 6.1255\n",
      "Epoch 41/100\n",
      "8/8 - 0s - loss: 5.9041\n",
      "Epoch 42/100\n",
      "8/8 - 0s - loss: 5.6948\n",
      "Epoch 43/100\n",
      "8/8 - 0s - loss: 5.5043\n",
      "Epoch 44/100\n",
      "8/8 - 0s - loss: 5.3049\n",
      "Epoch 45/100\n",
      "8/8 - 0s - loss: 5.1267\n",
      "Epoch 46/100\n",
      "8/8 - 0s - loss: 4.9566\n",
      "Epoch 47/100\n",
      "8/8 - 0s - loss: 4.7871\n",
      "Epoch 48/100\n",
      "8/8 - 0s - loss: 4.6305\n",
      "Epoch 49/100\n",
      "8/8 - 0s - loss: 4.4807\n",
      "Epoch 50/100\n",
      "8/8 - 0s - loss: 4.3365\n",
      "Epoch 51/100\n",
      "8/8 - 0s - loss: 4.2073\n",
      "Epoch 52/100\n",
      "8/8 - 0s - loss: 4.0750\n",
      "Epoch 53/100\n",
      "8/8 - 0s - loss: 3.9481\n",
      "Epoch 54/100\n",
      "8/8 - 0s - loss: 3.8410\n",
      "Epoch 55/100\n",
      "8/8 - 0s - loss: 3.7244\n",
      "Epoch 56/100\n",
      "8/8 - 0s - loss: 3.6181\n",
      "Epoch 57/100\n",
      "8/8 - 0s - loss: 3.5265\n",
      "Epoch 58/100\n",
      "8/8 - 0s - loss: 3.4273\n",
      "Epoch 59/100\n",
      "8/8 - 0s - loss: 3.3355\n",
      "Epoch 60/100\n",
      "8/8 - 0s - loss: 3.2559\n",
      "Epoch 61/100\n",
      "8/8 - 0s - loss: 3.1783\n",
      "Epoch 62/100\n",
      "8/8 - 0s - loss: 3.1017\n",
      "Epoch 63/100\n",
      "8/8 - 0s - loss: 3.0275\n",
      "Epoch 64/100\n",
      "8/8 - 0s - loss: 2.9647\n",
      "Epoch 65/100\n",
      "8/8 - 0s - loss: 2.9007\n",
      "Epoch 66/100\n",
      "8/8 - 0s - loss: 2.8420\n",
      "Epoch 67/100\n",
      "8/8 - 0s - loss: 2.7867\n",
      "Epoch 68/100\n",
      "8/8 - 0s - loss: 2.7337\n",
      "Epoch 69/100\n",
      "8/8 - 0s - loss: 2.6831\n",
      "Epoch 70/100\n",
      "8/8 - 0s - loss: 2.6407\n",
      "Epoch 71/100\n",
      "8/8 - 0s - loss: 2.5960\n",
      "Epoch 72/100\n",
      "8/8 - 0s - loss: 2.5586\n",
      "Epoch 73/100\n",
      "8/8 - 0s - loss: 2.5147\n",
      "Epoch 74/100\n",
      "8/8 - 0s - loss: 2.4825\n",
      "Epoch 75/100\n",
      "8/8 - 0s - loss: 2.4470\n",
      "Epoch 76/100\n",
      "8/8 - 0s - loss: 2.4181\n",
      "Epoch 77/100\n",
      "8/8 - 0s - loss: 2.3884\n",
      "Epoch 78/100\n",
      "8/8 - 0s - loss: 2.3643\n",
      "Epoch 79/100\n",
      "8/8 - 0s - loss: 2.3375\n",
      "Epoch 80/100\n",
      "8/8 - 0s - loss: 2.3125\n",
      "Epoch 81/100\n",
      "8/8 - 0s - loss: 2.2906\n",
      "Epoch 82/100\n",
      "8/8 - 0s - loss: 2.2705\n",
      "Epoch 83/100\n",
      "8/8 - 0s - loss: 2.2515\n",
      "Epoch 84/100\n",
      "8/8 - 0s - loss: 2.2332\n",
      "Epoch 85/100\n",
      "8/8 - 0s - loss: 2.2158\n",
      "Epoch 86/100\n",
      "8/8 - 0s - loss: 2.2013\n",
      "Epoch 87/100\n",
      "8/8 - 0s - loss: 2.1869\n",
      "Epoch 88/100\n",
      "8/8 - 0s - loss: 2.1730\n",
      "Epoch 89/100\n",
      "8/8 - 0s - loss: 2.1617\n",
      "Epoch 90/100\n",
      "8/8 - 0s - loss: 2.1498\n",
      "Epoch 91/100\n",
      "8/8 - 0s - loss: 2.1373\n",
      "Epoch 92/100\n",
      "8/8 - 0s - loss: 2.1277\n",
      "Epoch 93/100\n",
      "8/8 - 0s - loss: 2.1189\n",
      "Epoch 94/100\n",
      "8/8 - 0s - loss: 2.1091\n",
      "Epoch 95/100\n",
      "8/8 - 0s - loss: 2.1017\n",
      "Epoch 96/100\n",
      "8/8 - 0s - loss: 2.0935\n",
      "Epoch 97/100\n",
      "8/8 - 0s - loss: 2.0872\n",
      "Epoch 98/100\n",
      "8/8 - 0s - loss: 2.0806\n",
      "Epoch 99/100\n",
      "8/8 - 0s - loss: 2.0742\n",
      "Epoch 100/100\n",
      "8/8 - 0s - loss: 2.0681\n"
     ]
    },
    {
     "data": {
      "text/plain": [
       "<tensorflow.python.keras.callbacks.History at 0x7f701008d4f0>"
      ]
     },
     "execution_count": 9,
     "metadata": {},
     "output_type": "execute_result"
    }
   ],
   "source": [
    "# Convert to numpy - Classification\n",
    "x = df_cost[['sepal_l', 'sepal_w', 'petal_l', 'petal_w']].values\n",
    "y = df_cost.cost.values\n",
    "\n",
    "# Train the last layer of the network\n",
    "model3.fit(x,y,verbose=2,epochs=100)"
   ]
  },
  {
   "cell_type": "markdown",
   "metadata": {
    "id": "DAXFzJIQu-GY"
   },
   "source": [
    "We can evaluate the in-sample RMSE for the new model containing transferred layers from the previous model."
   ]
  },
  {
   "cell_type": "code",
   "execution_count": 10,
   "metadata": {
    "colab": {
     "base_uri": "https://localhost:8080/"
    },
    "id": "4XU98v2Du-GY",
    "outputId": "bee6db78-5e5e-4d2c-be58-f0cf6649a05b"
   },
   "outputs": [
    {
     "name": "stdout",
     "output_type": "stream",
     "text": [
      "Final score (RMSE): 1.4370436671213973\n"
     ]
    }
   ],
   "source": [
    "from sklearn.metrics import accuracy_score\n",
    "pred = model3.predict(x)\n",
    "score = np.sqrt(metrics.mean_squared_error(pred,y))\n",
    "print(f\"Final score (RMSE): {score}\")"
   ]
  },
  {
   "cell_type": "markdown",
   "metadata": {
    "id": "hOvFqmoou-GY"
   },
   "source": [
    "# Module 9 Assignment\n",
    "\n",
    "You can find the first assignment here: [assignment 9](https://github.com/jeffheaton/t81_558_deep_learning/blob/master/assignments/assignment_yourname_class9.ipynb)"
   ]
  },
  {
   "cell_type": "code",
   "execution_count": null,
   "metadata": {
    "id": "z5u3j5G4u-GY"
   },
   "outputs": [],
   "source": []
  }
 ],
 "metadata": {
  "anaconda-cloud": {},
  "colab": {
   "collapsed_sections": [],
   "name": "new_t81_558_class_09_1_keras_transfer.ipynb",
   "provenance": []
  },
  "kernelspec": {
   "display_name": "tensorflow",
   "language": "python",
   "name": "python3"
  },
  "language_info": {
   "codemirror_mode": {
    "name": "ipython",
    "version": 3
   },
   "file_extension": ".py",
   "mimetype": "text/x-python",
   "name": "python",
   "nbconvert_exporter": "python",
   "pygments_lexer": "ipython3",
   "version": "3.8.16"
  }
 },
 "nbformat": 4,
 "nbformat_minor": 1
}

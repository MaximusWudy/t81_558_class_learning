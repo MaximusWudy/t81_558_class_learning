{
 "cells": [
  {
   "cell_type": "markdown",
   "metadata": {
    "id": "XjaM_R6LeV5S"
   },
   "source": [
    "<a href=\"https://colab.research.google.com/github/jeffheaton/t81_558_deep_learning/blob/master/t81_558_class_08_2_keras_ensembles.ipynb\" target=\"_parent\"><img src=\"https://colab.research.google.com/assets/colab-badge.svg\" alt=\"Open In Colab\"/></a>"
   ]
  },
  {
   "cell_type": "markdown",
   "metadata": {
    "id": "Fnpz-3gAeV5T"
   },
   "source": [
    "# T81-558: Applications of Deep Neural Networks\n",
    "**Module 8: Kaggle Data Sets**\n",
    "* Instructor: [Jeff Heaton](https://sites.wustl.edu/jeffheaton/), McKelvey School of Engineering, [Washington University in St. Louis](https://engineering.wustl.edu/Programs/Pages/default.aspx)\n",
    "* For more information visit the [class website](https://sites.wustl.edu/jeffheaton/t81-558/)."
   ]
  },
  {
   "cell_type": "markdown",
   "metadata": {
    "id": "DpUhdx0FeV5T"
   },
   "source": [
    "# Module 8 Material\n",
    "\n",
    "* Part 8.1: Introduction to Kaggle [[Video]](https://www.youtube.com/watch?v=v4lJBhdCuCU&list=PLjy4p-07OYzulelvJ5KVaT2pDlxivl_BN) [[Notebook]](https://github.com/jeffheaton/t81_558_deep_learning/blob/master/t81_558_class_08_1_kaggle_intro.ipynb)\n",
    "* **Part 8.2: Building Ensembles with Scikit-Learn and Keras** [[Video]](https://www.youtube.com/watch?v=LQ-9ZRBLasw&list=PLjy4p-07OYzulelvJ5KVaT2pDlxivl_BN) [[Notebook]](https://github.com/jeffheaton/t81_558_deep_learning/blob/master/t81_558_class_08_2_keras_ensembles.ipynb)\n",
    "* Part 8.3: How Should you Architect Your Keras Neural Network: Hyperparameters [[Video]](https://www.youtube.com/watch?v=1q9klwSoUQw&list=PLjy4p-07OYzulelvJ5KVaT2pDlxivl_BN) [[Notebook]](https://github.com/jeffheaton/t81_558_deep_learning/blob/master/t81_558_class_08_3_keras_hyperparameters.ipynb)\n",
    "* Part 8.4: Bayesian Hyperparameter Optimization for Keras [[Video]](https://www.youtube.com/watch?v=sXdxyUCCm8s&list=PLjy4p-07OYzulelvJ5KVaT2pDlxivl_BN) [[Notebook]](https://github.com/jeffheaton/t81_558_deep_learning/blob/master/t81_558_class_08_4_bayesian_hyperparameter_opt.ipynb)\n",
    "* Part 8.5: Current Semester's Kaggle [[Video]](https://www.youtube.com/watch?v=PHQt0aUasRg&list=PLjy4p-07OYzulelvJ5KVaT2pDlxivl_BN) [[Notebook]](https://github.com/jeffheaton/t81_558_deep_learning/blob/master/t81_558_class_08_5_kaggle_project.ipynb)\n"
   ]
  },
  {
   "cell_type": "markdown",
   "metadata": {
    "id": "DaG7LEHQeV5U"
   },
   "source": [
    "# Google CoLab Instructions\n",
    "\n",
    "The following code ensures that Google CoLab is running the correct version of TensorFlow.\n",
    "  Running the following code will map your GDrive to ```/content/drive```."
   ]
  },
  {
   "cell_type": "code",
   "execution_count": 1,
   "metadata": {
    "colab": {
     "base_uri": "https://localhost:8080/"
    },
    "id": "wmJ4sdveeV5U",
    "outputId": "ccade7c3-5c27-46e5-ea44-cb4ca00934ac"
   },
   "outputs": [
    {
     "name": "stdout",
     "output_type": "stream",
     "text": [
      "Note: not using Google CoLab\n"
     ]
    }
   ],
   "source": [
    "try:\n",
    "    from google.colab import drive\n",
    "    drive.mount('/content/drive', force_remount=True)\n",
    "    COLAB = True\n",
    "    print(\"Note: using Google CoLab\")\n",
    "    %tensorflow_version 2.x\n",
    "except:\n",
    "    print(\"Note: not using Google CoLab\")\n",
    "    COLAB = False\n",
    "\n",
    "# Nicely formatted time string\n",
    "def hms_string(sec_elapsed):\n",
    "    h = int(sec_elapsed / (60 * 60))\n",
    "    m = int((sec_elapsed % (60 * 60)) / 60)\n",
    "    s = sec_elapsed % 60\n",
    "    return \"{}:{:>02}:{:>05.2f}\".format(h, m, s)"
   ]
  },
  {
   "cell_type": "markdown",
   "metadata": {
    "id": "FHx0cbrxeV5U"
   },
   "source": [
    "# Part 8.2: Building Ensembles with Scikit-Learn and Keras\n",
    "\n",
    "### Evaluating Feature Importance\n",
    "\n",
    "Feature importance tells us how important each feature (from the feature/import vector) is to predicting a neural network or another model. There are many different ways to evaluate the feature importance of neural networks. The following paper presents an excellent (and readable) overview of the various means of assessing the significance of neural network inputs/features.\n",
    "\n",
    "* An accurate comparison of methods for quantifying variable importance in artificial neural networks using simulated data [[Cite:olden2004accurate]](http://depts.washington.edu/oldenlab/wordpress/wp-content/uploads/2013/03/EcologicalModelling_2004.pdf). *Ecological Modelling*, 178(3), 389-397.\n",
    "\n",
    "In summary, the following methods are available to neural networks:\n",
    "\n",
    "* Connection Weights Algorithm\n",
    "* Partial Derivatives\n",
    "* Input Perturbation\n",
    "* Sensitivity Analysis\n",
    "* Forward Stepwise Addition \n",
    "* Improved Stepwise Selection 1\n",
    "* Backward Stepwise Elimination\n",
    "* Improved Stepwise Selection\n",
    "\n",
    "For this chapter, we will use the **input Perturbation feature ranking algorithm**. This algorithm will work with any regression or classification network. In the next section, I provide an implementation of the **input perturbation algorithm** for scikit-learn. This code implements a function below that will work with any scikit-learn model.\n",
    "\n",
    "[Leo Breiman](https://en.wikipedia.org/wiki/Leo_Breiman) provided this algorithm in his seminal paper on random forests. [[Citebreiman2001random:]](https://www.stat.berkeley.edu/~breiman/randomforest2001.pdf)  Although he presented this algorithm in conjunction with random forests, it is **model-independent and appropriate for any supervised learning model.  This algorithm, known as the input perturbation algorithm**, works by evaluating a trained model’s accuracy with each input individually shuffled from a data set. Shuffling an input causes it to become useless—effectively removing it from the model. More important inputs will produce a less accurate score when they are removed by shuffling them. This process makes sense because important features will contribute to the model's accuracy. I first presented the TensorFlow implementation of this algorithm in the following paper.\n",
    "\n",
    "* Early stabilizing feature importance for TensorFlow deep neural networks[[Cite:heaton2017early]](https://www.heatonresearch.com/dload/phd/IJCNN%202017-v2-final.pdf)\n",
    "\n",
    "This algorithm will use log loss to evaluate a classification problem and RMSE for regression."
   ]
  },
  {
   "cell_type": "code",
   "execution_count": 2,
   "metadata": {
    "id": "EjMqkygLeV5a"
   },
   "outputs": [],
   "source": [
    "from sklearn import metrics\n",
    "import scipy as sp\n",
    "import numpy as np\n",
    "import math\n",
    "from sklearn import metrics\n",
    "\n",
    "def perturbation_rank(model, x, y, names, regression):\n",
    "    errors = []\n",
    "\n",
    "    for i in range(x.shape[1]):\n",
    "        hold = np.array(x[:, i]) # save for future roll back\n",
    "        np.random.shuffle(x[:, i]) # in place shuffle of the feature column\n",
    "        \n",
    "        if regression:\n",
    "            pred = model.predict(x)\n",
    "            error = metrics.mean_squared_error(y, pred)\n",
    "        else:\n",
    "            pred = model.predict(x)\n",
    "            error = metrics.log_loss(y, pred)\n",
    "            \n",
    "        errors.append(error)\n",
    "        x[:, i] = hold # roll back\n",
    "        \n",
    "    max_error = np.max(errors)\n",
    "    importance = [e/max_error for e in errors]\n",
    "\n",
    "    data = {'name':names,'error':errors,'importance':importance}\n",
    "    result = pd.DataFrame(data, columns = ['name','error','importance'])\n",
    "    result.sort_values(by=['importance'], ascending=[0], inplace=True)\n",
    "    result.reset_index(inplace=True, drop=True)\n",
    "    return result"
   ]
  },
  {
   "cell_type": "markdown",
   "metadata": {
    "id": "0dnNa09QeV5a"
   },
   "source": [
    "## Classification and Input Perturbation Ranking\n",
    "\n",
    "We now look at the code to perform perturbation ranking for a classification neural network.  The implementation technique is slightly different for classification vs. regression, so I must provide two different implementations.  The primary difference between classification and regression is how we evaluate the accuracy of the neural network in each of these two network types.  We will use the Root Mean Square (RMSE) error calculation, whereas we will use log loss for classification.\n",
    "\n",
    "The code presented below creates a classification neural network that will predict the classic iris dataset."
   ]
  },
  {
   "cell_type": "code",
   "execution_count": 3,
   "metadata": {
    "colab": {
     "base_uri": "https://localhost:8080/"
    },
    "id": "lEY1hZigeV5a",
    "outputId": "80673c5c-3264-4d54-e19b-02742b563e12"
   },
   "outputs": [
    {
     "name": "stdout",
     "output_type": "stream",
     "text": [
      "Epoch 1/100\n",
      "4/4 - 0s - loss: 1.2890\n",
      "Epoch 2/100\n",
      "4/4 - 0s - loss: 1.1851\n",
      "Epoch 3/100\n",
      "4/4 - 0s - loss: 1.1268\n",
      "Epoch 4/100\n",
      "4/4 - 0s - loss: 1.0875\n",
      "Epoch 5/100\n",
      "4/4 - 0s - loss: 1.0533\n",
      "Epoch 6/100\n",
      "4/4 - 0s - loss: 1.0191\n",
      "Epoch 7/100\n",
      "4/4 - 0s - loss: 0.9897\n",
      "Epoch 8/100\n",
      "4/4 - 0s - loss: 0.9629\n",
      "Epoch 9/100\n",
      "4/4 - 0s - loss: 0.9339\n",
      "Epoch 10/100\n",
      "4/4 - 0s - loss: 0.9067\n",
      "Epoch 11/100\n",
      "4/4 - 0s - loss: 0.8772\n",
      "Epoch 12/100\n",
      "4/4 - 0s - loss: 0.8493\n",
      "Epoch 13/100\n",
      "4/4 - 0s - loss: 0.8214\n",
      "Epoch 14/100\n",
      "4/4 - 0s - loss: 0.7913\n",
      "Epoch 15/100\n",
      "4/4 - 0s - loss: 0.7643\n",
      "Epoch 16/100\n",
      "4/4 - 0s - loss: 0.7381\n",
      "Epoch 17/100\n",
      "4/4 - 0s - loss: 0.7095\n",
      "Epoch 18/100\n",
      "4/4 - 0s - loss: 0.6843\n",
      "Epoch 19/100\n",
      "4/4 - 0s - loss: 0.6605\n",
      "Epoch 20/100\n",
      "4/4 - 0s - loss: 0.6375\n",
      "Epoch 21/100\n",
      "4/4 - 0s - loss: 0.6159\n",
      "Epoch 22/100\n",
      "4/4 - 0s - loss: 0.5954\n",
      "Epoch 23/100\n",
      "4/4 - 0s - loss: 0.5766\n",
      "Epoch 24/100\n",
      "4/4 - 0s - loss: 0.5577\n",
      "Epoch 25/100\n",
      "4/4 - 0s - loss: 0.5429\n",
      "Epoch 26/100\n",
      "4/4 - 0s - loss: 0.5272\n",
      "Epoch 27/100\n",
      "4/4 - 0s - loss: 0.5116\n",
      "Epoch 28/100\n",
      "4/4 - 0s - loss: 0.4966\n",
      "Epoch 29/100\n",
      "4/4 - 0s - loss: 0.4843\n",
      "Epoch 30/100\n",
      "4/4 - 0s - loss: 0.4711\n",
      "Epoch 31/100\n",
      "4/4 - 0s - loss: 0.4579\n",
      "Epoch 32/100\n",
      "4/4 - 0s - loss: 0.4448\n",
      "Epoch 33/100\n",
      "4/4 - 0s - loss: 0.4290\n",
      "Epoch 34/100\n",
      "4/4 - 0s - loss: 0.4185\n",
      "Epoch 35/100\n",
      "4/4 - 0s - loss: 0.4087\n",
      "Epoch 36/100\n",
      "4/4 - 0s - loss: 0.3962\n",
      "Epoch 37/100\n",
      "4/4 - 0s - loss: 0.3861\n",
      "Epoch 38/100\n",
      "4/4 - 0s - loss: 0.3774\n",
      "Epoch 39/100\n",
      "4/4 - 0s - loss: 0.3658\n",
      "Epoch 40/100\n",
      "4/4 - 0s - loss: 0.3603\n",
      "Epoch 41/100\n",
      "4/4 - 0s - loss: 0.3488\n",
      "Epoch 42/100\n",
      "4/4 - 0s - loss: 0.3401\n",
      "Epoch 43/100\n",
      "4/4 - 0s - loss: 0.3334\n",
      "Epoch 44/100\n",
      "4/4 - 0s - loss: 0.3248\n",
      "Epoch 45/100\n",
      "4/4 - 0s - loss: 0.3157\n",
      "Epoch 46/100\n",
      "4/4 - 0s - loss: 0.3102\n",
      "Epoch 47/100\n",
      "4/4 - 0s - loss: 0.2991\n",
      "Epoch 48/100\n",
      "4/4 - 0s - loss: 0.2942\n",
      "Epoch 49/100\n",
      "4/4 - 0s - loss: 0.2867\n",
      "Epoch 50/100\n",
      "4/4 - 0s - loss: 0.2753\n",
      "Epoch 51/100\n",
      "4/4 - 0s - loss: 0.2711\n",
      "Epoch 52/100\n",
      "4/4 - 0s - loss: 0.2633\n",
      "Epoch 53/100\n",
      "4/4 - 0s - loss: 0.2559\n",
      "Epoch 54/100\n",
      "4/4 - 0s - loss: 0.2514\n",
      "Epoch 55/100\n",
      "4/4 - 0s - loss: 0.2420\n",
      "Epoch 56/100\n",
      "4/4 - 0s - loss: 0.2353\n",
      "Epoch 57/100\n",
      "4/4 - 0s - loss: 0.2280\n",
      "Epoch 58/100\n",
      "4/4 - 0s - loss: 0.2238\n",
      "Epoch 59/100\n",
      "4/4 - 0s - loss: 0.2167\n",
      "Epoch 60/100\n",
      "4/4 - 0s - loss: 0.2148\n",
      "Epoch 61/100\n",
      "4/4 - 0s - loss: 0.2057\n",
      "Epoch 62/100\n",
      "4/4 - 0s - loss: 0.2020\n",
      "Epoch 63/100\n",
      "4/4 - 0s - loss: 0.1961\n",
      "Epoch 64/100\n",
      "4/4 - 0s - loss: 0.1915\n",
      "Epoch 65/100\n",
      "4/4 - 0s - loss: 0.1866\n",
      "Epoch 66/100\n",
      "4/4 - 0s - loss: 0.1819\n",
      "Epoch 67/100\n",
      "4/4 - 0s - loss: 0.1807\n",
      "Epoch 68/100\n",
      "4/4 - 0s - loss: 0.1735\n",
      "Epoch 69/100\n",
      "4/4 - 0s - loss: 0.1772\n",
      "Epoch 70/100\n",
      "4/4 - 0s - loss: 0.1724\n",
      "Epoch 71/100\n",
      "4/4 - 0s - loss: 0.1674\n",
      "Epoch 72/100\n",
      "4/4 - 0s - loss: 0.1577\n",
      "Epoch 73/100\n",
      "4/4 - 0s - loss: 0.1584\n",
      "Epoch 74/100\n",
      "4/4 - 0s - loss: 0.1580\n",
      "Epoch 75/100\n",
      "4/4 - 0s - loss: 0.1505\n",
      "Epoch 76/100\n",
      "4/4 - 0s - loss: 0.1483\n",
      "Epoch 77/100\n",
      "4/4 - 0s - loss: 0.1444\n",
      "Epoch 78/100\n",
      "4/4 - 0s - loss: 0.1423\n",
      "Epoch 79/100\n",
      "4/4 - 0s - loss: 0.1399\n",
      "Epoch 80/100\n",
      "4/4 - 0s - loss: 0.1365\n",
      "Epoch 81/100\n",
      "4/4 - 0s - loss: 0.1369\n",
      "Epoch 82/100\n",
      "4/4 - 0s - loss: 0.1350\n",
      "Epoch 83/100\n",
      "4/4 - 0s - loss: 0.1321\n",
      "Epoch 84/100\n",
      "4/4 - 0s - loss: 0.1333\n",
      "Epoch 85/100\n",
      "4/4 - 0s - loss: 0.1253\n",
      "Epoch 86/100\n",
      "4/4 - 0s - loss: 0.1293\n",
      "Epoch 87/100\n",
      "4/4 - 0s - loss: 0.1226\n",
      "Epoch 88/100\n",
      "4/4 - 0s - loss: 0.1289\n",
      "Epoch 89/100\n",
      "4/4 - 0s - loss: 0.1168\n",
      "Epoch 90/100\n",
      "4/4 - 0s - loss: 0.1259\n",
      "Epoch 91/100\n",
      "4/4 - 0s - loss: 0.1206\n",
      "Epoch 92/100\n",
      "4/4 - 0s - loss: 0.1183\n",
      "Epoch 93/100\n",
      "4/4 - 0s - loss: 0.1148\n",
      "Epoch 94/100\n",
      "4/4 - 0s - loss: 0.1180\n",
      "Epoch 95/100\n",
      "4/4 - 0s - loss: 0.1121\n",
      "Epoch 96/100\n",
      "4/4 - 0s - loss: 0.1110\n",
      "Epoch 97/100\n",
      "4/4 - 0s - loss: 0.1100\n",
      "Epoch 98/100\n",
      "4/4 - 0s - loss: 0.1073\n",
      "Epoch 99/100\n",
      "4/4 - 0s - loss: 0.1070\n",
      "Epoch 100/100\n",
      "4/4 - 0s - loss: 0.1062\n"
     ]
    },
    {
     "data": {
      "text/plain": [
       "<tensorflow.python.keras.callbacks.History at 0x7f2d881afcd0>"
      ]
     },
     "execution_count": 3,
     "metadata": {},
     "output_type": "execute_result"
    }
   ],
   "source": [
    "# HIDE OUTPUT\n",
    "import pandas as pd\n",
    "import io\n",
    "import requests\n",
    "import numpy as np\n",
    "from sklearn import metrics\n",
    "from tensorflow.keras.models import Sequential\n",
    "from tensorflow.keras.layers import Dense, Activation\n",
    "from tensorflow.keras.callbacks import EarlyStopping\n",
    "from sklearn.model_selection import train_test_split\n",
    "\n",
    "df = pd.read_csv(\n",
    "    \"https://data.heatonresearch.com/data/t81-558/iris.csv\", \n",
    "    na_values=['NA', '?'])\n",
    "\n",
    "# Convert to numpy - Classification\n",
    "x = df[['sepal_l', 'sepal_w', 'petal_l', 'petal_w']].values\n",
    "dummies = pd.get_dummies(df['species']) # Classification\n",
    "species = dummies.columns\n",
    "y = dummies.values\n",
    "\n",
    "# Split into train/test\n",
    "x_train, x_test, y_train, y_test = train_test_split(    \n",
    "    x, y, test_size=0.25, random_state=42)\n",
    "\n",
    "# Build neural network\n",
    "model = Sequential()\n",
    "model.add(Dense(50, input_dim=x.shape[1], activation='relu')) # Hidden 1\n",
    "model.add(Dense(25, activation='relu')) # Hidden 2\n",
    "model.add(Dense(y.shape[1],activation='softmax')) # Output\n",
    "model.compile(loss='categorical_crossentropy', optimizer='adam')\n",
    "model.fit(x_train,y_train,verbose=2,epochs=100)"
   ]
  },
  {
   "cell_type": "markdown",
   "metadata": {
    "id": "vd-Y5j9MeV5b"
   },
   "source": [
    "Next, we evaluate the accuracy of the trained model.  Here we see that the neural network performs great, with an accuracy of 1.0.  We might fear overfitting with such high accuracy for a more complex dataset.  However, for this example, we are more interested in determining the importance of each column."
   ]
  },
  {
   "cell_type": "code",
   "execution_count": 4,
   "metadata": {},
   "outputs": [
    {
     "name": "stdout",
     "output_type": "stream",
     "text": [
      "Accuracy: 1.0\n"
     ]
    }
   ],
   "source": [
    "from sklearn.metrics import accuracy_score\n",
    "\n",
    "pred = model.predict(x_test)\n",
    "predict_classes = np.argmax(pred,axis=1)\n",
    "expected_classes = np.argmax(y_test,axis=1)\n",
    "correct = accuracy_score(expected_classes,predict_classes)\n",
    "print(f\"Accuracy: {correct}\")"
   ]
  },
  {
   "cell_type": "markdown",
   "metadata": {
    "id": "IhMMwAhzeV5b"
   },
   "source": [
    "We are now ready to call the input perturbation algorithm.  First, we extract the column names and remove the target column.  The target column is not important, as it is the objective, not one of the inputs.  In supervised learning, the target is of the utmost importance.\n",
    "\n",
    "We can see the importance displayed in the following table.  The most important column is always 1.0, and lessor columns will continue in a downward trend.  The least important column will have the lowest rank."
   ]
  },
  {
   "cell_type": "code",
   "execution_count": 5,
   "metadata": {
    "colab": {
     "base_uri": "https://localhost:8080/",
     "height": 175
    },
    "id": "OTUe2xOZeV5b",
    "outputId": "0d9610d9-1fa2-4438-ed3b-77e44029aa84"
   },
   "outputs": [
    {
     "data": {
      "text/html": [
       "<div>\n",
       "<style scoped>\n",
       "    .dataframe tbody tr th:only-of-type {\n",
       "        vertical-align: middle;\n",
       "    }\n",
       "\n",
       "    .dataframe tbody tr th {\n",
       "        vertical-align: top;\n",
       "    }\n",
       "\n",
       "    .dataframe thead th {\n",
       "        text-align: right;\n",
       "    }\n",
       "</style>\n",
       "<table border=\"1\" class=\"dataframe\">\n",
       "  <thead>\n",
       "    <tr style=\"text-align: right;\">\n",
       "      <th></th>\n",
       "      <th>name</th>\n",
       "      <th>error</th>\n",
       "      <th>importance</th>\n",
       "    </tr>\n",
       "  </thead>\n",
       "  <tbody>\n",
       "    <tr>\n",
       "      <th>0</th>\n",
       "      <td>petal_l</td>\n",
       "      <td>2.164575</td>\n",
       "      <td>1.000000</td>\n",
       "    </tr>\n",
       "    <tr>\n",
       "      <th>1</th>\n",
       "      <td>petal_w</td>\n",
       "      <td>0.638275</td>\n",
       "      <td>0.294873</td>\n",
       "    </tr>\n",
       "    <tr>\n",
       "      <th>2</th>\n",
       "      <td>sepal_l</td>\n",
       "      <td>0.287762</td>\n",
       "      <td>0.132941</td>\n",
       "    </tr>\n",
       "    <tr>\n",
       "      <th>3</th>\n",
       "      <td>sepal_w</td>\n",
       "      <td>0.088264</td>\n",
       "      <td>0.040777</td>\n",
       "    </tr>\n",
       "  </tbody>\n",
       "</table>\n",
       "</div>"
      ],
      "text/plain": [
       "      name     error  importance\n",
       "0  petal_l  2.164575    1.000000\n",
       "1  petal_w  0.638275    0.294873\n",
       "2  sepal_l  0.287762    0.132941\n",
       "3  sepal_w  0.088264    0.040777"
      ]
     },
     "metadata": {},
     "output_type": "display_data"
    }
   ],
   "source": [
    "# Rank the features\n",
    "from IPython.display import display, HTML\n",
    "\n",
    "names = list(df.columns) # x+y column names\n",
    "names.remove(\"species\") # remove the target(y)\n",
    "rank = perturbation_rank(model, x_test, y_test, names, False)\n",
    "display(rank)"
   ]
  },
  {
   "cell_type": "markdown",
   "metadata": {
    "id": "5YUQdraleV5b"
   },
   "source": [
    "## Regression and Input Perturbation Ranking\n",
    "\n",
    "We now see how to use input perturbation ranking for a regression neural network.  We will use the MPG dataset as a demonstration.  The code below loads the MPG dataset and creates a regression neural network for this dataset.  The code trains the neural network and calculates an RMSE evaluation."
   ]
  },
  {
   "cell_type": "code",
   "execution_count": 6,
   "metadata": {
    "colab": {
     "base_uri": "https://localhost:8080/"
    },
    "id": "kB0AMVAneV5b",
    "outputId": "94e06bc1-6028-4a0f-b76e-76df20d7925d"
   },
   "outputs": [
    {
     "name": "stdout",
     "output_type": "stream",
     "text": [
      "Epoch 1/100\n",
      "10/10 - 0s - loss: 510750.8750\n",
      "Epoch 2/100\n",
      "10/10 - 0s - loss: 224474.1406\n",
      "Epoch 3/100\n",
      "10/10 - 0s - loss: 72071.7500\n",
      "Epoch 4/100\n",
      "10/10 - 0s - loss: 12176.7432\n",
      "Epoch 5/100\n",
      "10/10 - 0s - loss: 678.3466\n",
      "Epoch 6/100\n",
      "10/10 - 0s - loss: 1568.2787\n",
      "Epoch 7/100\n",
      "10/10 - 0s - loss: 1506.3440\n",
      "Epoch 8/100\n",
      "10/10 - 0s - loss: 665.5508\n",
      "Epoch 9/100\n",
      "10/10 - 0s - loss: 345.0493\n",
      "Epoch 10/100\n",
      "10/10 - 0s - loss: 338.1442\n",
      "Epoch 11/100\n",
      "10/10 - 0s - loss: 339.9945\n",
      "Epoch 12/100\n",
      "10/10 - 0s - loss: 326.8102\n",
      "Epoch 13/100\n",
      "10/10 - 0s - loss: 321.8234\n",
      "Epoch 14/100\n",
      "10/10 - 0s - loss: 321.2518\n",
      "Epoch 15/100\n",
      "10/10 - 0s - loss: 320.0280\n",
      "Epoch 16/100\n",
      "10/10 - 0s - loss: 318.0003\n",
      "Epoch 17/100\n",
      "10/10 - 0s - loss: 315.9073\n",
      "Epoch 18/100\n",
      "10/10 - 0s - loss: 314.4383\n",
      "Epoch 19/100\n",
      "10/10 - 0s - loss: 312.2990\n",
      "Epoch 20/100\n",
      "10/10 - 0s - loss: 310.6756\n",
      "Epoch 21/100\n",
      "10/10 - 0s - loss: 308.5789\n",
      "Epoch 22/100\n",
      "10/10 - 0s - loss: 308.0361\n",
      "Epoch 23/100\n",
      "10/10 - 0s - loss: 304.7319\n",
      "Epoch 24/100\n",
      "10/10 - 0s - loss: 302.9597\n",
      "Epoch 25/100\n",
      "10/10 - 0s - loss: 301.4519\n",
      "Epoch 26/100\n",
      "10/10 - 0s - loss: 299.2203\n",
      "Epoch 27/100\n",
      "10/10 - 0s - loss: 296.7414\n",
      "Epoch 28/100\n",
      "10/10 - 0s - loss: 295.0522\n",
      "Epoch 29/100\n",
      "10/10 - 0s - loss: 292.8059\n",
      "Epoch 30/100\n",
      "10/10 - 0s - loss: 291.1289\n",
      "Epoch 31/100\n",
      "10/10 - 0s - loss: 288.1891\n",
      "Epoch 32/100\n",
      "10/10 - 0s - loss: 287.0303\n",
      "Epoch 33/100\n",
      "10/10 - 0s - loss: 284.3394\n",
      "Epoch 34/100\n",
      "10/10 - 0s - loss: 281.8640\n",
      "Epoch 35/100\n",
      "10/10 - 0s - loss: 279.8087\n",
      "Epoch 36/100\n",
      "10/10 - 0s - loss: 277.1638\n",
      "Epoch 37/100\n",
      "10/10 - 0s - loss: 274.9633\n",
      "Epoch 38/100\n",
      "10/10 - 0s - loss: 272.6190\n",
      "Epoch 39/100\n",
      "10/10 - 0s - loss: 270.8449\n",
      "Epoch 40/100\n",
      "10/10 - 0s - loss: 268.5531\n",
      "Epoch 41/100\n",
      "10/10 - 0s - loss: 265.6640\n",
      "Epoch 42/100\n",
      "10/10 - 0s - loss: 263.1432\n",
      "Epoch 43/100\n",
      "10/10 - 0s - loss: 260.8215\n",
      "Epoch 44/100\n",
      "10/10 - 0s - loss: 258.9160\n",
      "Epoch 45/100\n",
      "10/10 - 0s - loss: 256.1881\n",
      "Epoch 46/100\n",
      "10/10 - 0s - loss: 253.7240\n",
      "Epoch 47/100\n",
      "10/10 - 0s - loss: 251.2641\n",
      "Epoch 48/100\n",
      "10/10 - 0s - loss: 249.8030\n",
      "Epoch 49/100\n",
      "10/10 - 0s - loss: 246.9831\n",
      "Epoch 50/100\n",
      "10/10 - 0s - loss: 245.8173\n",
      "Epoch 51/100\n",
      "10/10 - 0s - loss: 241.4872\n",
      "Epoch 52/100\n",
      "10/10 - 0s - loss: 239.4731\n",
      "Epoch 53/100\n",
      "10/10 - 0s - loss: 237.7387\n",
      "Epoch 54/100\n",
      "10/10 - 0s - loss: 234.6405\n",
      "Epoch 55/100\n",
      "10/10 - 0s - loss: 231.8964\n",
      "Epoch 56/100\n",
      "10/10 - 0s - loss: 229.9687\n",
      "Epoch 57/100\n",
      "10/10 - 0s - loss: 227.7650\n",
      "Epoch 58/100\n",
      "10/10 - 0s - loss: 227.0380\n",
      "Epoch 59/100\n",
      "10/10 - 0s - loss: 223.1295\n",
      "Epoch 60/100\n",
      "10/10 - 0s - loss: 220.8622\n",
      "Epoch 61/100\n",
      "10/10 - 0s - loss: 217.9409\n",
      "Epoch 62/100\n",
      "10/10 - 0s - loss: 216.0876\n",
      "Epoch 63/100\n",
      "10/10 - 0s - loss: 212.9055\n",
      "Epoch 64/100\n",
      "10/10 - 0s - loss: 213.6604\n",
      "Epoch 65/100\n",
      "10/10 - 0s - loss: 208.3421\n",
      "Epoch 66/100\n",
      "10/10 - 0s - loss: 206.6172\n",
      "Epoch 67/100\n",
      "10/10 - 0s - loss: 203.9115\n",
      "Epoch 68/100\n",
      "10/10 - 0s - loss: 201.5368\n",
      "Epoch 69/100\n",
      "10/10 - 0s - loss: 198.7437\n",
      "Epoch 70/100\n",
      "10/10 - 0s - loss: 196.5867\n",
      "Epoch 71/100\n",
      "10/10 - 0s - loss: 194.0574\n",
      "Epoch 72/100\n",
      "10/10 - 0s - loss: 192.5484\n",
      "Epoch 73/100\n",
      "10/10 - 0s - loss: 190.9158\n",
      "Epoch 74/100\n",
      "10/10 - 0s - loss: 187.2220\n",
      "Epoch 75/100\n",
      "10/10 - 0s - loss: 185.2863\n",
      "Epoch 76/100\n",
      "10/10 - 0s - loss: 183.7476\n",
      "Epoch 77/100\n",
      "10/10 - 0s - loss: 181.1378\n",
      "Epoch 78/100\n",
      "10/10 - 0s - loss: 178.1997\n",
      "Epoch 79/100\n",
      "10/10 - 0s - loss: 176.1161\n",
      "Epoch 80/100\n",
      "10/10 - 0s - loss: 174.2265\n",
      "Epoch 81/100\n",
      "10/10 - 0s - loss: 171.4301\n",
      "Epoch 82/100\n",
      "10/10 - 0s - loss: 169.4219\n",
      "Epoch 83/100\n",
      "10/10 - 0s - loss: 167.0243\n",
      "Epoch 84/100\n",
      "10/10 - 0s - loss: 165.4422\n",
      "Epoch 85/100\n",
      "10/10 - 0s - loss: 162.8452\n",
      "Epoch 86/100\n",
      "10/10 - 0s - loss: 160.6584\n",
      "Epoch 87/100\n",
      "10/10 - 0s - loss: 158.1756\n",
      "Epoch 88/100\n",
      "10/10 - 0s - loss: 156.4663\n",
      "Epoch 89/100\n",
      "10/10 - 0s - loss: 153.7522\n",
      "Epoch 90/100\n",
      "10/10 - 0s - loss: 151.9469\n",
      "Epoch 91/100\n",
      "10/10 - 0s - loss: 151.7283\n",
      "Epoch 92/100\n",
      "10/10 - 0s - loss: 148.3424\n",
      "Epoch 93/100\n",
      "10/10 - 0s - loss: 145.6482\n",
      "Epoch 94/100\n",
      "10/10 - 0s - loss: 144.1898\n",
      "Epoch 95/100\n",
      "10/10 - 0s - loss: 142.4380\n",
      "Epoch 96/100\n",
      "10/10 - 0s - loss: 139.9126\n",
      "Epoch 97/100\n",
      "10/10 - 0s - loss: 138.0331\n",
      "Epoch 98/100\n",
      "10/10 - 0s - loss: 135.9679\n",
      "Epoch 99/100\n",
      "10/10 - 0s - loss: 135.0875\n",
      "Epoch 100/100\n",
      "10/10 - 0s - loss: 132.7231\n"
     ]
    }
   ],
   "source": [
    "# HIDE OUTPUT\n",
    "from tensorflow.keras.models import Sequential\n",
    "from tensorflow.keras.layers import Dense, Activation\n",
    "from sklearn.model_selection import train_test_split\n",
    "import pandas as pd\n",
    "import io\n",
    "import os\n",
    "import requests\n",
    "import numpy as np\n",
    "from sklearn import metrics\n",
    "\n",
    "save_path = \".\"\n",
    "\n",
    "df = pd.read_csv(\n",
    "    \"https://data.heatonresearch.com/data/t81-558/auto-mpg.csv\", \n",
    "    na_values=['NA', '?'])\n",
    "\n",
    "cars = df['name']\n",
    "\n",
    "# Handle missing value\n",
    "df['horsepower'] = df['horsepower'].fillna(df['horsepower'].median())\n",
    "\n",
    "# Pandas to Numpy\n",
    "x = df[['cylinders', 'displacement', 'horsepower', 'weight',\n",
    "       'acceleration', 'year', 'origin']].values\n",
    "y = df['mpg'].values # regression\n",
    "\n",
    "# Split into train/test\n",
    "x_train, x_test, y_train, y_test = train_test_split(    \n",
    "    x, y, test_size=0.25, random_state=42)\n",
    "\n",
    "# Build the neural network\n",
    "model = Sequential()\n",
    "model.add(Dense(25, input_dim=x.shape[1], activation='relu')) # Hidden 1\n",
    "model.add(Dense(10, activation='relu')) # Hidden 2\n",
    "model.add(Dense(1)) # Output\n",
    "model.compile(loss='mean_squared_error', optimizer='adam')\n",
    "model.fit(x_train,y_train,verbose=2,epochs=100)\n",
    "\n",
    "# Predict\n",
    "pred = model.predict(x)"
   ]
  },
  {
   "cell_type": "markdown",
   "metadata": {
    "id": "9ynzp9RTeV5c"
   },
   "source": [
    "Just as before, we extract the column names and discard the target.  We can now create a ranking of the importance of each of the input features.  The feature with a ranking of 1.0 is the most important."
   ]
  },
  {
   "cell_type": "code",
   "execution_count": 7,
   "metadata": {
    "colab": {
     "base_uri": "https://localhost:8080/",
     "height": 269
    },
    "id": "nm3PeQckeV5c",
    "outputId": "47179baf-9747-4ef9-9174-706c346cfe07"
   },
   "outputs": [
    {
     "data": {
      "text/html": [
       "<div>\n",
       "<style scoped>\n",
       "    .dataframe tbody tr th:only-of-type {\n",
       "        vertical-align: middle;\n",
       "    }\n",
       "\n",
       "    .dataframe tbody tr th {\n",
       "        vertical-align: top;\n",
       "    }\n",
       "\n",
       "    .dataframe thead th {\n",
       "        text-align: right;\n",
       "    }\n",
       "</style>\n",
       "<table border=\"1\" class=\"dataframe\">\n",
       "  <thead>\n",
       "    <tr style=\"text-align: right;\">\n",
       "      <th></th>\n",
       "      <th>name</th>\n",
       "      <th>error</th>\n",
       "      <th>importance</th>\n",
       "    </tr>\n",
       "  </thead>\n",
       "  <tbody>\n",
       "    <tr>\n",
       "      <th>0</th>\n",
       "      <td>year</td>\n",
       "      <td>141.345052</td>\n",
       "      <td>1.000000</td>\n",
       "    </tr>\n",
       "    <tr>\n",
       "      <th>1</th>\n",
       "      <td>weight</td>\n",
       "      <td>136.310289</td>\n",
       "      <td>0.964380</td>\n",
       "    </tr>\n",
       "    <tr>\n",
       "      <th>2</th>\n",
       "      <td>cylinders</td>\n",
       "      <td>133.959119</td>\n",
       "      <td>0.947745</td>\n",
       "    </tr>\n",
       "    <tr>\n",
       "      <th>3</th>\n",
       "      <td>origin</td>\n",
       "      <td>133.687091</td>\n",
       "      <td>0.945821</td>\n",
       "    </tr>\n",
       "    <tr>\n",
       "      <th>4</th>\n",
       "      <td>horsepower</td>\n",
       "      <td>130.994310</td>\n",
       "      <td>0.926770</td>\n",
       "    </tr>\n",
       "    <tr>\n",
       "      <th>5</th>\n",
       "      <td>acceleration</td>\n",
       "      <td>128.784298</td>\n",
       "      <td>0.911134</td>\n",
       "    </tr>\n",
       "    <tr>\n",
       "      <th>6</th>\n",
       "      <td>displacement</td>\n",
       "      <td>83.875616</td>\n",
       "      <td>0.593410</td>\n",
       "    </tr>\n",
       "  </tbody>\n",
       "</table>\n",
       "</div>"
      ],
      "text/plain": [
       "           name       error  importance\n",
       "0          year  141.345052    1.000000\n",
       "1        weight  136.310289    0.964380\n",
       "2     cylinders  133.959119    0.947745\n",
       "3        origin  133.687091    0.945821\n",
       "4    horsepower  130.994310    0.926770\n",
       "5  acceleration  128.784298    0.911134\n",
       "6  displacement   83.875616    0.593410"
      ]
     },
     "metadata": {},
     "output_type": "display_data"
    }
   ],
   "source": [
    "# Rank the features\n",
    "from IPython.display import display, HTML\n",
    "\n",
    "names = list(df.columns) # x+y column names\n",
    "names.remove(\"name\")\n",
    "names.remove(\"mpg\") # remove the target(y)\n",
    "rank = perturbation_rank(model, x_test, y_test, names, True)\n",
    "display(rank)"
   ]
  },
  {
   "cell_type": "markdown",
   "metadata": {
    "id": "o581oa2ceV5c"
   },
   "source": [
    "## Biological Response with Neural Network\n",
    "\n",
    "The following sections will demonstrate how to use feature importance ranking and ensembling with a more complex dataset. Ensembling is the process where you combine multiple models for greater accuracy. Kaggle competition winners frequently make use of ensembling for high-ranking solutions.\n",
    "\n",
    "We will use the biological response dataset, a Kaggle dataset, where there is an unusually high number of columns. Because of the large number of columns, it is essential to use feature ranking to determine the importance of these columns. We begin by loading the dataset and preprocessing. This Kaggle dataset is a binary classification problem. You must predict if certain conditions will cause a biological response.\n",
    "\n",
    "* [Predicting a Biological Response](https://www.kaggle.com/c/bioresponse)"
   ]
  },
  {
   "cell_type": "code",
   "execution_count": 8,
   "metadata": {
    "id": "O9qJ0tqueV5c"
   },
   "outputs": [],
   "source": [
    "import pandas as pd\n",
    "import os\n",
    "import numpy as np\n",
    "from sklearn import metrics\n",
    "from scipy.stats import zscore\n",
    "from sklearn.model_selection import KFold\n",
    "from IPython.display import HTML, display\n",
    "\n",
    "URL = \"https://data.heatonresearch.com/data/t81-558/kaggle/\"\n",
    "\n",
    "df_train = pd.read_csv(\n",
    "    URL+\"bio_train.csv\", \n",
    "    na_values=['NA', '?'])\n",
    "\n",
    "df_test = pd.read_csv(\n",
    "    URL+\"bio_test.csv\", \n",
    "    na_values=['NA', '?'])\n",
    "\n",
    "activity_classes = df_train['Activity']"
   ]
  },
  {
   "cell_type": "markdown",
   "metadata": {
    "id": "7cbGqaUIeV5c"
   },
   "source": [
    "A large number of columns is evident when we display the shape of the dataset."
   ]
  },
  {
   "cell_type": "code",
   "execution_count": 9,
   "metadata": {
    "colab": {
     "base_uri": "https://localhost:8080/"
    },
    "id": "xkVUrKiVeV5c",
    "outputId": "14cb3834-33f0-4393-dd69-c7dd3aeef9ba"
   },
   "outputs": [
    {
     "name": "stdout",
     "output_type": "stream",
     "text": [
      "(3751, 1777)\n"
     ]
    }
   ],
   "source": [
    "print(df_train.shape)"
   ]
  },
  {
   "cell_type": "markdown",
   "metadata": {
    "id": "tk-HF1CieV5c"
   },
   "source": [
    "The following code constructs a classification neural network and trains it for the biological response dataset.  Once trained, the accuracy is measured."
   ]
  },
  {
   "cell_type": "code",
   "execution_count": 10,
   "metadata": {
    "colab": {
     "base_uri": "https://localhost:8080/"
    },
    "id": "J_miQaHneV5c",
    "outputId": "6bebb475-b6da-4991-b077-ac2a76f96138"
   },
   "outputs": [
    {
     "name": "stdout",
     "output_type": "stream",
     "text": [
      "Fitting/Training...\n",
      "Epoch 00010: early stopping\n",
      "Fitting done...\n",
      "Validation logloss: 0.6309741323700163\n",
      "Validation accuracy score: 0.7494669509594882\n"
     ]
    }
   ],
   "source": [
    "import os\n",
    "import pandas as pd\n",
    "import tensorflow as tf\n",
    "from tensorflow.keras.models import Sequential\n",
    "from tensorflow.keras.layers import Dense, Activation\n",
    "from sklearn.model_selection import train_test_split\n",
    "from tensorflow.keras.callbacks import EarlyStopping\n",
    "import numpy as np\n",
    "import sklearn\n",
    "\n",
    "# Encode feature vector\n",
    "# Convert to numpy - Classification\n",
    "x_columns = df_train.columns.drop('Activity')\n",
    "x = df_train[x_columns].values\n",
    "y = df_train['Activity'].values # Classification\n",
    "x_submit = df_test[x_columns].values.astype(np.float32)\n",
    "\n",
    "\n",
    "# Split into train/test\n",
    "x_train, x_test, y_train, y_test = train_test_split(    \n",
    "    x, y, test_size=0.25, random_state=42) \n",
    "\n",
    "print(\"Fitting/Training...\")\n",
    "model = Sequential()\n",
    "model.add(Dense(25, input_dim=x.shape[1], activation='relu'))\n",
    "model.add(Dense(10))\n",
    "model.add(Dense(1,activation='sigmoid'))\n",
    "model.compile(loss='binary_crossentropy', optimizer='adam')\n",
    "monitor = EarlyStopping(monitor='val_loss', min_delta=1e-3, \n",
    "                        patience=5, verbose=1, mode='auto')\n",
    "model.fit(x_train,y_train,validation_data=(x_test,y_test),\n",
    "          callbacks=[monitor],verbose=0,epochs=1000)\n",
    "print(\"Fitting done...\")\n",
    "\n",
    "# Predict\n",
    "pred = model.predict(x_test).flatten()\n",
    "\n",
    "\n",
    "# Clip so that min is never exactly 0, max never 1\n",
    "pred = np.clip(pred,a_min=1e-6,a_max=(1-1e-6)) \n",
    "print(\"Validation logloss: {}\".format(\n",
    "    sklearn.metrics.log_loss(y_test,pred)))\n",
    "\n",
    "# Evaluate success using accuracy\n",
    "pred = pred>0.5 # If greater than 0.5 probability, then true\n",
    "score = metrics.accuracy_score(y_test, pred)\n",
    "print(\"Validation accuracy score: {}\".format(score))\n",
    "\n",
    "# Build real submit file\n",
    "pred_submit = model.predict(x_submit)\n",
    "\n",
    "# Clip so that min is never exactly 0, max never 1 (would be a NaN score)\n",
    "pred_submit = np.clip(pred_submit,a_min=1e-6,a_max=(1-1e-6)) \n",
    "submit_df = pd.DataFrame({'MoleculeId':[x+1 for x \\\n",
    "        in range(len(pred_submit))],'PredictedProbability':\\\n",
    "                          pred_submit.flatten()})\n",
    "submit_df.to_csv(\"submit.csv\", index=False)"
   ]
  },
  {
   "cell_type": "markdown",
   "metadata": {
    "id": "wluUEn10eV5d"
   },
   "source": [
    "## What Features/Columns are Important\n",
    "The following uses perturbation ranking to evaluate the neural network."
   ]
  },
  {
   "cell_type": "code",
   "execution_count": 11,
   "metadata": {
    "colab": {
     "base_uri": "https://localhost:8080/",
     "height": 363
    },
    "id": "204BmljWeV5d",
    "outputId": "619dd1de-7b67-4cb8-82a7-ccb1dcf9deaa"
   },
   "outputs": [
    {
     "data": {
      "text/html": [
       "<div>\n",
       "<style scoped>\n",
       "    .dataframe tbody tr th:only-of-type {\n",
       "        vertical-align: middle;\n",
       "    }\n",
       "\n",
       "    .dataframe tbody tr th {\n",
       "        vertical-align: top;\n",
       "    }\n",
       "\n",
       "    .dataframe thead th {\n",
       "        text-align: right;\n",
       "    }\n",
       "</style>\n",
       "<table border=\"1\" class=\"dataframe\">\n",
       "  <thead>\n",
       "    <tr style=\"text-align: right;\">\n",
       "      <th></th>\n",
       "      <th>name</th>\n",
       "      <th>error</th>\n",
       "      <th>importance</th>\n",
       "    </tr>\n",
       "  </thead>\n",
       "  <tbody>\n",
       "    <tr>\n",
       "      <th>0</th>\n",
       "      <td>D27</td>\n",
       "      <td>0.690416</td>\n",
       "      <td>1.000000</td>\n",
       "    </tr>\n",
       "    <tr>\n",
       "      <th>1</th>\n",
       "      <td>D1012</td>\n",
       "      <td>0.645148</td>\n",
       "      <td>0.934433</td>\n",
       "    </tr>\n",
       "    <tr>\n",
       "      <th>2</th>\n",
       "      <td>D51</td>\n",
       "      <td>0.643758</td>\n",
       "      <td>0.932421</td>\n",
       "    </tr>\n",
       "    <tr>\n",
       "      <th>3</th>\n",
       "      <td>D1100</td>\n",
       "      <td>0.642325</td>\n",
       "      <td>0.930344</td>\n",
       "    </tr>\n",
       "    <tr>\n",
       "      <th>4</th>\n",
       "      <td>D1059</td>\n",
       "      <td>0.641669</td>\n",
       "      <td>0.929394</td>\n",
       "    </tr>\n",
       "    <tr>\n",
       "      <th>5</th>\n",
       "      <td>D1128</td>\n",
       "      <td>0.640544</td>\n",
       "      <td>0.927764</td>\n",
       "    </tr>\n",
       "    <tr>\n",
       "      <th>6</th>\n",
       "      <td>D1402</td>\n",
       "      <td>0.639555</td>\n",
       "      <td>0.926332</td>\n",
       "    </tr>\n",
       "    <tr>\n",
       "      <th>7</th>\n",
       "      <td>D1218</td>\n",
       "      <td>0.639551</td>\n",
       "      <td>0.926326</td>\n",
       "    </tr>\n",
       "    <tr>\n",
       "      <th>8</th>\n",
       "      <td>D1159</td>\n",
       "      <td>0.639223</td>\n",
       "      <td>0.925851</td>\n",
       "    </tr>\n",
       "    <tr>\n",
       "      <th>9</th>\n",
       "      <td>D1192</td>\n",
       "      <td>0.638954</td>\n",
       "      <td>0.925462</td>\n",
       "    </tr>\n",
       "  </tbody>\n",
       "</table>\n",
       "</div>"
      ],
      "text/plain": [
       "    name     error  importance\n",
       "0    D27  0.690416    1.000000\n",
       "1  D1012  0.645148    0.934433\n",
       "2    D51  0.643758    0.932421\n",
       "3  D1100  0.642325    0.930344\n",
       "4  D1059  0.641669    0.929394\n",
       "5  D1128  0.640544    0.927764\n",
       "6  D1402  0.639555    0.926332\n",
       "7  D1218  0.639551    0.926326\n",
       "8  D1159  0.639223    0.925851\n",
       "9  D1192  0.638954    0.925462"
      ]
     },
     "metadata": {},
     "output_type": "display_data"
    }
   ],
   "source": [
    "# Rank the features\n",
    "from IPython.display import display, HTML\n",
    "\n",
    "names = list(df_train.columns) # x+y column names\n",
    "names.remove(\"Activity\") # remove the target(y)\n",
    "rank = perturbation_rank(model, x_test, y_test, names, False)\n",
    "display(rank[0:10])"
   ]
  },
  {
   "cell_type": "markdown",
   "metadata": {
    "id": "_EejOUAleV5d"
   },
   "source": [
    "## Neural Network Ensemble\n",
    "\n",
    "A neural network ensemble combines neural network predictions with other models. The program determines the exact blend of these models by logistic regression. The following code performs this blend for a classification.  **If you present the final predictions from the ensemble to Kaggle, you will see that the result is very accurate.**"
   ]
  },
  {
   "cell_type": "code",
   "execution_count": 12,
   "metadata": {
    "colab": {
     "base_uri": "https://localhost:8080/"
    },
    "id": "LaXLD3yneV5d",
    "outputId": "2ba6092b-ae16-4b63-fa39-7d3a2a0251bb"
   },
   "outputs": [
    {
     "name": "stdout",
     "output_type": "stream",
     "text": [
      "Loading data...\n",
      "Model: 0 : <tensorflow.python.keras.wrappers.scikit_learn.KerasClassifier object at 0x7f2d73be5790>\n",
      "106/106 [==============================] - 0s 1ms/step - loss: 0.6337\n",
      "Fold #0: loss=0.527560151251493\n"
     ]
    },
    {
     "name": "stderr",
     "output_type": "stream",
     "text": [
      "/home/adeng/miniconda3/envs/tensorflow/lib/python3.8/site-packages/tensorflow/python/keras/engine/sequential.py:425: UserWarning: `model.predict_proba()` is deprecated and will be removed after 2021-01-01. Please use `model.predict()` instead.\n",
      "  warnings.warn('`model.predict_proba()` is deprecated and '\n"
     ]
    },
    {
     "name": "stdout",
     "output_type": "stream",
     "text": [
      "106/106 [==============================] - 0s 1ms/step - loss: 0.6326\n",
      "Fold #1: loss=0.5182472816656988\n"
     ]
    },
    {
     "name": "stderr",
     "output_type": "stream",
     "text": [
      "/home/adeng/miniconda3/envs/tensorflow/lib/python3.8/site-packages/tensorflow/python/keras/engine/sequential.py:425: UserWarning: `model.predict_proba()` is deprecated and will be removed after 2021-01-01. Please use `model.predict()` instead.\n",
      "  warnings.warn('`model.predict_proba()` is deprecated and '\n"
     ]
    },
    {
     "name": "stdout",
     "output_type": "stream",
     "text": [
      "106/106 [==============================] - 0s 1ms/step - loss: 0.6296\n",
      "Fold #2: loss=0.5308221397375007\n"
     ]
    },
    {
     "name": "stderr",
     "output_type": "stream",
     "text": [
      "/home/adeng/miniconda3/envs/tensorflow/lib/python3.8/site-packages/tensorflow/python/keras/engine/sequential.py:425: UserWarning: `model.predict_proba()` is deprecated and will be removed after 2021-01-01. Please use `model.predict()` instead.\n",
      "  warnings.warn('`model.predict_proba()` is deprecated and '\n"
     ]
    },
    {
     "name": "stdout",
     "output_type": "stream",
     "text": [
      "106/106 [==============================] - 0s 1ms/step - loss: 0.6591\n",
      "Fold #3: loss=0.5321196101426188\n"
     ]
    },
    {
     "name": "stderr",
     "output_type": "stream",
     "text": [
      "/home/adeng/miniconda3/envs/tensorflow/lib/python3.8/site-packages/tensorflow/python/keras/engine/sequential.py:425: UserWarning: `model.predict_proba()` is deprecated and will be removed after 2021-01-01. Please use `model.predict()` instead.\n",
      "  warnings.warn('`model.predict_proba()` is deprecated and '\n"
     ]
    },
    {
     "name": "stdout",
     "output_type": "stream",
     "text": [
      "106/106 [==============================] - 0s 1ms/step - loss: 0.6576\n",
      "Fold #4: loss=0.554880651476705\n"
     ]
    },
    {
     "name": "stderr",
     "output_type": "stream",
     "text": [
      "/home/adeng/miniconda3/envs/tensorflow/lib/python3.8/site-packages/tensorflow/python/keras/engine/sequential.py:425: UserWarning: `model.predict_proba()` is deprecated and will be removed after 2021-01-01. Please use `model.predict()` instead.\n",
      "  warnings.warn('`model.predict_proba()` is deprecated and '\n"
     ]
    },
    {
     "name": "stdout",
     "output_type": "stream",
     "text": [
      "106/106 [==============================] - 0s 1ms/step - loss: 0.6704\n",
      "Fold #5: loss=0.6079964678134003\n"
     ]
    },
    {
     "name": "stderr",
     "output_type": "stream",
     "text": [
      "/home/adeng/miniconda3/envs/tensorflow/lib/python3.8/site-packages/tensorflow/python/keras/engine/sequential.py:425: UserWarning: `model.predict_proba()` is deprecated and will be removed after 2021-01-01. Please use `model.predict()` instead.\n",
      "  warnings.warn('`model.predict_proba()` is deprecated and '\n"
     ]
    },
    {
     "name": "stdout",
     "output_type": "stream",
     "text": [
      "106/106 [==============================] - 0s 1ms/step - loss: 0.6660\n",
      "Fold #6: loss=0.5248630124504088\n"
     ]
    },
    {
     "name": "stderr",
     "output_type": "stream",
     "text": [
      "/home/adeng/miniconda3/envs/tensorflow/lib/python3.8/site-packages/tensorflow/python/keras/engine/sequential.py:425: UserWarning: `model.predict_proba()` is deprecated and will be removed after 2021-01-01. Please use `model.predict()` instead.\n",
      "  warnings.warn('`model.predict_proba()` is deprecated and '\n"
     ]
    },
    {
     "name": "stdout",
     "output_type": "stream",
     "text": [
      "106/106 [==============================] - 0s 1ms/step - loss: 0.6321\n",
      "Fold #7: loss=0.5357807272014603\n"
     ]
    },
    {
     "name": "stderr",
     "output_type": "stream",
     "text": [
      "/home/adeng/miniconda3/envs/tensorflow/lib/python3.8/site-packages/tensorflow/python/keras/engine/sequential.py:425: UserWarning: `model.predict_proba()` is deprecated and will be removed after 2021-01-01. Please use `model.predict()` instead.\n",
      "  warnings.warn('`model.predict_proba()` is deprecated and '\n"
     ]
    },
    {
     "name": "stdout",
     "output_type": "stream",
     "text": [
      "106/106 [==============================] - 0s 1ms/step - loss: 0.6506\n",
      "Fold #8: loss=0.5586331315921277\n"
     ]
    },
    {
     "name": "stderr",
     "output_type": "stream",
     "text": [
      "/home/adeng/miniconda3/envs/tensorflow/lib/python3.8/site-packages/tensorflow/python/keras/engine/sequential.py:425: UserWarning: `model.predict_proba()` is deprecated and will be removed after 2021-01-01. Please use `model.predict()` instead.\n",
      "  warnings.warn('`model.predict_proba()` is deprecated and '\n"
     ]
    },
    {
     "name": "stdout",
     "output_type": "stream",
     "text": [
      "106/106 [==============================] - 0s 1ms/step - loss: 0.6417\n",
      "Fold #9: loss=0.5232840511410385\n",
      "KerasClassifier: Mean loss=0.5414187224472451\n",
      "Model: 1 : KNeighborsClassifier(n_neighbors=3)\n"
     ]
    },
    {
     "name": "stderr",
     "output_type": "stream",
     "text": [
      "/home/adeng/miniconda3/envs/tensorflow/lib/python3.8/site-packages/tensorflow/python/keras/engine/sequential.py:425: UserWarning: `model.predict_proba()` is deprecated and will be removed after 2021-01-01. Please use `model.predict()` instead.\n",
      "  warnings.warn('`model.predict_proba()` is deprecated and '\n",
      "Exception ignored on calling ctypes callback function: <function _ThreadpoolInfo._find_modules_with_dl_iterate_phdr.<locals>.match_module_callback at 0x7f2d84222820>\n",
      "Traceback (most recent call last):\n",
      "  File \"/home/adeng/miniconda3/envs/tensorflow/lib/python3.8/site-packages/threadpoolctl.py\", line 400, in match_module_callback\n",
      "    self._make_module_from_path(filepath)\n",
      "  File \"/home/adeng/miniconda3/envs/tensorflow/lib/python3.8/site-packages/threadpoolctl.py\", line 515, in _make_module_from_path\n",
      "    module = module_class(filepath, prefix, user_api, internal_api)\n",
      "  File \"/home/adeng/miniconda3/envs/tensorflow/lib/python3.8/site-packages/threadpoolctl.py\", line 606, in __init__\n",
      "    self.version = self.get_version()\n",
      "  File \"/home/adeng/miniconda3/envs/tensorflow/lib/python3.8/site-packages/threadpoolctl.py\", line 646, in get_version\n",
      "    config = get_config().split()\n",
      "AttributeError: 'NoneType' object has no attribute 'split'\n",
      "Exception ignored on calling ctypes callback function: <function _ThreadpoolInfo._find_modules_with_dl_iterate_phdr.<locals>.match_module_callback at 0x7f2d84222820>\n",
      "Traceback (most recent call last):\n",
      "  File \"/home/adeng/miniconda3/envs/tensorflow/lib/python3.8/site-packages/threadpoolctl.py\", line 400, in match_module_callback\n",
      "    self._make_module_from_path(filepath)\n",
      "  File \"/home/adeng/miniconda3/envs/tensorflow/lib/python3.8/site-packages/threadpoolctl.py\", line 515, in _make_module_from_path\n",
      "    module = module_class(filepath, prefix, user_api, internal_api)\n",
      "  File \"/home/adeng/miniconda3/envs/tensorflow/lib/python3.8/site-packages/threadpoolctl.py\", line 606, in __init__\n",
      "    self.version = self.get_version()\n",
      "  File \"/home/adeng/miniconda3/envs/tensorflow/lib/python3.8/site-packages/threadpoolctl.py\", line 646, in get_version\n",
      "    config = get_config().split()\n",
      "AttributeError: 'NoneType' object has no attribute 'split'\n",
      "Exception ignored on calling ctypes callback function: <function _ThreadpoolInfo._find_modules_with_dl_iterate_phdr.<locals>.match_module_callback at 0x7f2d84222820>\n",
      "Traceback (most recent call last):\n",
      "  File \"/home/adeng/miniconda3/envs/tensorflow/lib/python3.8/site-packages/threadpoolctl.py\", line 400, in match_module_callback\n",
      "    self._make_module_from_path(filepath)\n",
      "  File \"/home/adeng/miniconda3/envs/tensorflow/lib/python3.8/site-packages/threadpoolctl.py\", line 515, in _make_module_from_path\n",
      "    module = module_class(filepath, prefix, user_api, internal_api)\n",
      "  File \"/home/adeng/miniconda3/envs/tensorflow/lib/python3.8/site-packages/threadpoolctl.py\", line 606, in __init__\n",
      "    self.version = self.get_version()\n",
      "  File \"/home/adeng/miniconda3/envs/tensorflow/lib/python3.8/site-packages/threadpoolctl.py\", line 646, in get_version\n",
      "    config = get_config().split()\n",
      "AttributeError: 'NoneType' object has no attribute 'split'\n",
      "Exception ignored on calling ctypes callback function: <function _ThreadpoolInfo._find_modules_with_dl_iterate_phdr.<locals>.match_module_callback at 0x7f2d4f702310>\n",
      "Traceback (most recent call last):\n",
      "  File \"/home/adeng/miniconda3/envs/tensorflow/lib/python3.8/site-packages/threadpoolctl.py\", line 400, in match_module_callback\n",
      "    self._make_module_from_path(filepath)\n",
      "  File \"/home/adeng/miniconda3/envs/tensorflow/lib/python3.8/site-packages/threadpoolctl.py\", line 515, in _make_module_from_path\n",
      "    module = module_class(filepath, prefix, user_api, internal_api)\n",
      "  File \"/home/adeng/miniconda3/envs/tensorflow/lib/python3.8/site-packages/threadpoolctl.py\", line 606, in __init__\n",
      "    self.version = self.get_version()\n",
      "  File \"/home/adeng/miniconda3/envs/tensorflow/lib/python3.8/site-packages/threadpoolctl.py\", line 646, in get_version\n",
      "    config = get_config().split()\n",
      "AttributeError: 'NoneType' object has no attribute 'split'\n"
     ]
    },
    {
     "name": "stdout",
     "output_type": "stream",
     "text": [
      "Fold #0: loss=3.606678388314123\n"
     ]
    },
    {
     "name": "stderr",
     "output_type": "stream",
     "text": [
      "Exception ignored on calling ctypes callback function: <function _ThreadpoolInfo._find_modules_with_dl_iterate_phdr.<locals>.match_module_callback at 0x7f2d84222820>\n",
      "Traceback (most recent call last):\n",
      "  File \"/home/adeng/miniconda3/envs/tensorflow/lib/python3.8/site-packages/threadpoolctl.py\", line 400, in match_module_callback\n",
      "    self._make_module_from_path(filepath)\n",
      "  File \"/home/adeng/miniconda3/envs/tensorflow/lib/python3.8/site-packages/threadpoolctl.py\", line 515, in _make_module_from_path\n",
      "    module = module_class(filepath, prefix, user_api, internal_api)\n",
      "  File \"/home/adeng/miniconda3/envs/tensorflow/lib/python3.8/site-packages/threadpoolctl.py\", line 606, in __init__\n",
      "    self.version = self.get_version()\n",
      "  File \"/home/adeng/miniconda3/envs/tensorflow/lib/python3.8/site-packages/threadpoolctl.py\", line 646, in get_version\n",
      "    config = get_config().split()\n",
      "AttributeError: 'NoneType' object has no attribute 'split'\n",
      "Exception ignored on calling ctypes callback function: <function _ThreadpoolInfo._find_modules_with_dl_iterate_phdr.<locals>.match_module_callback at 0x7f2d84222820>\n",
      "Traceback (most recent call last):\n",
      "  File \"/home/adeng/miniconda3/envs/tensorflow/lib/python3.8/site-packages/threadpoolctl.py\", line 400, in match_module_callback\n",
      "    self._make_module_from_path(filepath)\n",
      "  File \"/home/adeng/miniconda3/envs/tensorflow/lib/python3.8/site-packages/threadpoolctl.py\", line 515, in _make_module_from_path\n",
      "    module = module_class(filepath, prefix, user_api, internal_api)\n",
      "  File \"/home/adeng/miniconda3/envs/tensorflow/lib/python3.8/site-packages/threadpoolctl.py\", line 606, in __init__\n",
      "    self.version = self.get_version()\n",
      "  File \"/home/adeng/miniconda3/envs/tensorflow/lib/python3.8/site-packages/threadpoolctl.py\", line 646, in get_version\n",
      "    config = get_config().split()\n",
      "AttributeError: 'NoneType' object has no attribute 'split'\n"
     ]
    },
    {
     "name": "stdout",
     "output_type": "stream",
     "text": [
      "Fold #1: loss=2.2256421551487593\n"
     ]
    },
    {
     "name": "stderr",
     "output_type": "stream",
     "text": [
      "Exception ignored on calling ctypes callback function: <function _ThreadpoolInfo._find_modules_with_dl_iterate_phdr.<locals>.match_module_callback at 0x7f2d4f702310>\n",
      "Traceback (most recent call last):\n",
      "  File \"/home/adeng/miniconda3/envs/tensorflow/lib/python3.8/site-packages/threadpoolctl.py\", line 400, in match_module_callback\n",
      "    self._make_module_from_path(filepath)\n",
      "  File \"/home/adeng/miniconda3/envs/tensorflow/lib/python3.8/site-packages/threadpoolctl.py\", line 515, in _make_module_from_path\n",
      "    module = module_class(filepath, prefix, user_api, internal_api)\n",
      "  File \"/home/adeng/miniconda3/envs/tensorflow/lib/python3.8/site-packages/threadpoolctl.py\", line 606, in __init__\n",
      "    self.version = self.get_version()\n",
      "  File \"/home/adeng/miniconda3/envs/tensorflow/lib/python3.8/site-packages/threadpoolctl.py\", line 646, in get_version\n",
      "    config = get_config().split()\n",
      "AttributeError: 'NoneType' object has no attribute 'split'\n",
      "Exception ignored on calling ctypes callback function: <function _ThreadpoolInfo._find_modules_with_dl_iterate_phdr.<locals>.match_module_callback at 0x7f2d4f702310>\n",
      "Traceback (most recent call last):\n",
      "  File \"/home/adeng/miniconda3/envs/tensorflow/lib/python3.8/site-packages/threadpoolctl.py\", line 400, in match_module_callback\n",
      "    self._make_module_from_path(filepath)\n",
      "  File \"/home/adeng/miniconda3/envs/tensorflow/lib/python3.8/site-packages/threadpoolctl.py\", line 515, in _make_module_from_path\n",
      "    module = module_class(filepath, prefix, user_api, internal_api)\n",
      "  File \"/home/adeng/miniconda3/envs/tensorflow/lib/python3.8/site-packages/threadpoolctl.py\", line 606, in __init__\n",
      "    self.version = self.get_version()\n",
      "  File \"/home/adeng/miniconda3/envs/tensorflow/lib/python3.8/site-packages/threadpoolctl.py\", line 646, in get_version\n",
      "    config = get_config().split()\n",
      "AttributeError: 'NoneType' object has no attribute 'split'\n"
     ]
    },
    {
     "name": "stdout",
     "output_type": "stream",
     "text": [
      "Fold #2: loss=3.6815437059542186\n"
     ]
    },
    {
     "name": "stderr",
     "output_type": "stream",
     "text": [
      "Exception ignored on calling ctypes callback function: <function _ThreadpoolInfo._find_modules_with_dl_iterate_phdr.<locals>.match_module_callback at 0x7f2d84222820>\n",
      "Traceback (most recent call last):\n",
      "  File \"/home/adeng/miniconda3/envs/tensorflow/lib/python3.8/site-packages/threadpoolctl.py\", line 400, in match_module_callback\n",
      "    self._make_module_from_path(filepath)\n",
      "  File \"/home/adeng/miniconda3/envs/tensorflow/lib/python3.8/site-packages/threadpoolctl.py\", line 515, in _make_module_from_path\n",
      "    module = module_class(filepath, prefix, user_api, internal_api)\n",
      "  File \"/home/adeng/miniconda3/envs/tensorflow/lib/python3.8/site-packages/threadpoolctl.py\", line 606, in __init__\n",
      "    self.version = self.get_version()\n",
      "  File \"/home/adeng/miniconda3/envs/tensorflow/lib/python3.8/site-packages/threadpoolctl.py\", line 646, in get_version\n",
      "    config = get_config().split()\n",
      "AttributeError: 'NoneType' object has no attribute 'split'\n",
      "Exception ignored on calling ctypes callback function: <function _ThreadpoolInfo._find_modules_with_dl_iterate_phdr.<locals>.match_module_callback at 0x7f2d84222820>\n",
      "Traceback (most recent call last):\n",
      "  File \"/home/adeng/miniconda3/envs/tensorflow/lib/python3.8/site-packages/threadpoolctl.py\", line 400, in match_module_callback\n",
      "    self._make_module_from_path(filepath)\n",
      "  File \"/home/adeng/miniconda3/envs/tensorflow/lib/python3.8/site-packages/threadpoolctl.py\", line 515, in _make_module_from_path\n",
      "    module = module_class(filepath, prefix, user_api, internal_api)\n",
      "  File \"/home/adeng/miniconda3/envs/tensorflow/lib/python3.8/site-packages/threadpoolctl.py\", line 606, in __init__\n",
      "    self.version = self.get_version()\n",
      "  File \"/home/adeng/miniconda3/envs/tensorflow/lib/python3.8/site-packages/threadpoolctl.py\", line 646, in get_version\n",
      "    config = get_config().split()\n",
      "AttributeError: 'NoneType' object has no attribute 'split'\n"
     ]
    },
    {
     "name": "stdout",
     "output_type": "stream",
     "text": [
      "Fold #3: loss=2.416161292225968\n"
     ]
    },
    {
     "name": "stderr",
     "output_type": "stream",
     "text": [
      "Exception ignored on calling ctypes callback function: <function _ThreadpoolInfo._find_modules_with_dl_iterate_phdr.<locals>.match_module_callback at 0x7f2d84222820>\n",
      "Traceback (most recent call last):\n",
      "  File \"/home/adeng/miniconda3/envs/tensorflow/lib/python3.8/site-packages/threadpoolctl.py\", line 400, in match_module_callback\n",
      "    self._make_module_from_path(filepath)\n",
      "  File \"/home/adeng/miniconda3/envs/tensorflow/lib/python3.8/site-packages/threadpoolctl.py\", line 515, in _make_module_from_path\n",
      "    module = module_class(filepath, prefix, user_api, internal_api)\n",
      "  File \"/home/adeng/miniconda3/envs/tensorflow/lib/python3.8/site-packages/threadpoolctl.py\", line 606, in __init__\n",
      "    self.version = self.get_version()\n",
      "  File \"/home/adeng/miniconda3/envs/tensorflow/lib/python3.8/site-packages/threadpoolctl.py\", line 646, in get_version\n",
      "    config = get_config().split()\n",
      "AttributeError: 'NoneType' object has no attribute 'split'\n",
      "Exception ignored on calling ctypes callback function: <function _ThreadpoolInfo._find_modules_with_dl_iterate_phdr.<locals>.match_module_callback at 0x7f2d84222820>\n",
      "Traceback (most recent call last):\n",
      "  File \"/home/adeng/miniconda3/envs/tensorflow/lib/python3.8/site-packages/threadpoolctl.py\", line 400, in match_module_callback\n",
      "    self._make_module_from_path(filepath)\n",
      "  File \"/home/adeng/miniconda3/envs/tensorflow/lib/python3.8/site-packages/threadpoolctl.py\", line 515, in _make_module_from_path\n",
      "    module = module_class(filepath, prefix, user_api, internal_api)\n",
      "  File \"/home/adeng/miniconda3/envs/tensorflow/lib/python3.8/site-packages/threadpoolctl.py\", line 606, in __init__\n",
      "    self.version = self.get_version()\n",
      "  File \"/home/adeng/miniconda3/envs/tensorflow/lib/python3.8/site-packages/threadpoolctl.py\", line 646, in get_version\n",
      "    config = get_config().split()\n",
      "AttributeError: 'NoneType' object has no attribute 'split'\n"
     ]
    },
    {
     "name": "stdout",
     "output_type": "stream",
     "text": [
      "Fold #4: loss=4.442472310149748\n"
     ]
    },
    {
     "name": "stderr",
     "output_type": "stream",
     "text": [
      "Exception ignored on calling ctypes callback function: <function _ThreadpoolInfo._find_modules_with_dl_iterate_phdr.<locals>.match_module_callback at 0x7f2d4f702310>\n",
      "Traceback (most recent call last):\n",
      "  File \"/home/adeng/miniconda3/envs/tensorflow/lib/python3.8/site-packages/threadpoolctl.py\", line 400, in match_module_callback\n",
      "    self._make_module_from_path(filepath)\n",
      "  File \"/home/adeng/miniconda3/envs/tensorflow/lib/python3.8/site-packages/threadpoolctl.py\", line 515, in _make_module_from_path\n",
      "    module = module_class(filepath, prefix, user_api, internal_api)\n",
      "  File \"/home/adeng/miniconda3/envs/tensorflow/lib/python3.8/site-packages/threadpoolctl.py\", line 606, in __init__\n",
      "    self.version = self.get_version()\n",
      "  File \"/home/adeng/miniconda3/envs/tensorflow/lib/python3.8/site-packages/threadpoolctl.py\", line 646, in get_version\n",
      "    config = get_config().split()\n",
      "AttributeError: 'NoneType' object has no attribute 'split'\n",
      "Exception ignored on calling ctypes callback function: <function _ThreadpoolInfo._find_modules_with_dl_iterate_phdr.<locals>.match_module_callback at 0x7f2d4f702310>\n",
      "Traceback (most recent call last):\n",
      "  File \"/home/adeng/miniconda3/envs/tensorflow/lib/python3.8/site-packages/threadpoolctl.py\", line 400, in match_module_callback\n",
      "    self._make_module_from_path(filepath)\n",
      "  File \"/home/adeng/miniconda3/envs/tensorflow/lib/python3.8/site-packages/threadpoolctl.py\", line 515, in _make_module_from_path\n",
      "    module = module_class(filepath, prefix, user_api, internal_api)\n",
      "  File \"/home/adeng/miniconda3/envs/tensorflow/lib/python3.8/site-packages/threadpoolctl.py\", line 606, in __init__\n",
      "    self.version = self.get_version()\n",
      "  File \"/home/adeng/miniconda3/envs/tensorflow/lib/python3.8/site-packages/threadpoolctl.py\", line 646, in get_version\n",
      "    config = get_config().split()\n",
      "AttributeError: 'NoneType' object has no attribute 'split'\n"
     ]
    },
    {
     "name": "stdout",
     "output_type": "stream",
     "text": [
      "Fold #5: loss=4.321350530738247\n"
     ]
    },
    {
     "name": "stderr",
     "output_type": "stream",
     "text": [
      "Exception ignored on calling ctypes callback function: <function _ThreadpoolInfo._find_modules_with_dl_iterate_phdr.<locals>.match_module_callback at 0x7f2d4f702310>\n",
      "Traceback (most recent call last):\n",
      "  File \"/home/adeng/miniconda3/envs/tensorflow/lib/python3.8/site-packages/threadpoolctl.py\", line 400, in match_module_callback\n",
      "    self._make_module_from_path(filepath)\n",
      "  File \"/home/adeng/miniconda3/envs/tensorflow/lib/python3.8/site-packages/threadpoolctl.py\", line 515, in _make_module_from_path\n",
      "    module = module_class(filepath, prefix, user_api, internal_api)\n",
      "  File \"/home/adeng/miniconda3/envs/tensorflow/lib/python3.8/site-packages/threadpoolctl.py\", line 606, in __init__\n",
      "    self.version = self.get_version()\n",
      "  File \"/home/adeng/miniconda3/envs/tensorflow/lib/python3.8/site-packages/threadpoolctl.py\", line 646, in get_version\n",
      "    config = get_config().split()\n",
      "AttributeError: 'NoneType' object has no attribute 'split'\n",
      "Exception ignored on calling ctypes callback function: <function _ThreadpoolInfo._find_modules_with_dl_iterate_phdr.<locals>.match_module_callback at 0x7f2d4f702310>\n",
      "Traceback (most recent call last):\n",
      "  File \"/home/adeng/miniconda3/envs/tensorflow/lib/python3.8/site-packages/threadpoolctl.py\", line 400, in match_module_callback\n",
      "    self._make_module_from_path(filepath)\n",
      "  File \"/home/adeng/miniconda3/envs/tensorflow/lib/python3.8/site-packages/threadpoolctl.py\", line 515, in _make_module_from_path\n",
      "    module = module_class(filepath, prefix, user_api, internal_api)\n",
      "  File \"/home/adeng/miniconda3/envs/tensorflow/lib/python3.8/site-packages/threadpoolctl.py\", line 606, in __init__\n",
      "    self.version = self.get_version()\n",
      "  File \"/home/adeng/miniconda3/envs/tensorflow/lib/python3.8/site-packages/threadpoolctl.py\", line 646, in get_version\n",
      "    config = get_config().split()\n",
      "AttributeError: 'NoneType' object has no attribute 'split'\n"
     ]
    },
    {
     "name": "stdout",
     "output_type": "stream",
     "text": [
      "Fold #6: loss=3.400455469543658\n"
     ]
    },
    {
     "name": "stderr",
     "output_type": "stream",
     "text": [
      "Exception ignored on calling ctypes callback function: <function _ThreadpoolInfo._find_modules_with_dl_iterate_phdr.<locals>.match_module_callback at 0x7f2df4300670>\n",
      "Traceback (most recent call last):\n",
      "  File \"/home/adeng/miniconda3/envs/tensorflow/lib/python3.8/site-packages/threadpoolctl.py\", line 400, in match_module_callback\n",
      "    self._make_module_from_path(filepath)\n",
      "  File \"/home/adeng/miniconda3/envs/tensorflow/lib/python3.8/site-packages/threadpoolctl.py\", line 515, in _make_module_from_path\n",
      "    module = module_class(filepath, prefix, user_api, internal_api)\n",
      "  File \"/home/adeng/miniconda3/envs/tensorflow/lib/python3.8/site-packages/threadpoolctl.py\", line 606, in __init__\n",
      "    self.version = self.get_version()\n",
      "  File \"/home/adeng/miniconda3/envs/tensorflow/lib/python3.8/site-packages/threadpoolctl.py\", line 646, in get_version\n",
      "    config = get_config().split()\n",
      "AttributeError: 'NoneType' object has no attribute 'split'\n",
      "Exception ignored on calling ctypes callback function: <function _ThreadpoolInfo._find_modules_with_dl_iterate_phdr.<locals>.match_module_callback at 0x7f2df4300700>\n",
      "Traceback (most recent call last):\n",
      "  File \"/home/adeng/miniconda3/envs/tensorflow/lib/python3.8/site-packages/threadpoolctl.py\", line 400, in match_module_callback\n",
      "    self._make_module_from_path(filepath)\n",
      "  File \"/home/adeng/miniconda3/envs/tensorflow/lib/python3.8/site-packages/threadpoolctl.py\", line 515, in _make_module_from_path\n",
      "    module = module_class(filepath, prefix, user_api, internal_api)\n",
      "  File \"/home/adeng/miniconda3/envs/tensorflow/lib/python3.8/site-packages/threadpoolctl.py\", line 606, in __init__\n",
      "    self.version = self.get_version()\n",
      "  File \"/home/adeng/miniconda3/envs/tensorflow/lib/python3.8/site-packages/threadpoolctl.py\", line 646, in get_version\n",
      "    config = get_config().split()\n",
      "AttributeError: 'NoneType' object has no attribute 'split'\n"
     ]
    },
    {
     "name": "stdout",
     "output_type": "stream",
     "text": [
      "Fold #7: loss=3.1724147110842513\n"
     ]
    },
    {
     "name": "stderr",
     "output_type": "stream",
     "text": [
      "Exception ignored on calling ctypes callback function: <function _ThreadpoolInfo._find_modules_with_dl_iterate_phdr.<locals>.match_module_callback at 0x7f2d84222820>\n",
      "Traceback (most recent call last):\n",
      "  File \"/home/adeng/miniconda3/envs/tensorflow/lib/python3.8/site-packages/threadpoolctl.py\", line 400, in match_module_callback\n",
      "    self._make_module_from_path(filepath)\n",
      "  File \"/home/adeng/miniconda3/envs/tensorflow/lib/python3.8/site-packages/threadpoolctl.py\", line 515, in _make_module_from_path\n",
      "    module = module_class(filepath, prefix, user_api, internal_api)\n",
      "  File \"/home/adeng/miniconda3/envs/tensorflow/lib/python3.8/site-packages/threadpoolctl.py\", line 606, in __init__\n",
      "    self.version = self.get_version()\n",
      "  File \"/home/adeng/miniconda3/envs/tensorflow/lib/python3.8/site-packages/threadpoolctl.py\", line 646, in get_version\n",
      "    config = get_config().split()\n",
      "AttributeError: 'NoneType' object has no attribute 'split'\n",
      "Exception ignored on calling ctypes callback function: <function _ThreadpoolInfo._find_modules_with_dl_iterate_phdr.<locals>.match_module_callback at 0x7f2d84222820>\n",
      "Traceback (most recent call last):\n",
      "  File \"/home/adeng/miniconda3/envs/tensorflow/lib/python3.8/site-packages/threadpoolctl.py\", line 400, in match_module_callback\n",
      "    self._make_module_from_path(filepath)\n",
      "  File \"/home/adeng/miniconda3/envs/tensorflow/lib/python3.8/site-packages/threadpoolctl.py\", line 515, in _make_module_from_path\n",
      "    module = module_class(filepath, prefix, user_api, internal_api)\n",
      "  File \"/home/adeng/miniconda3/envs/tensorflow/lib/python3.8/site-packages/threadpoolctl.py\", line 606, in __init__\n",
      "    self.version = self.get_version()\n",
      "  File \"/home/adeng/miniconda3/envs/tensorflow/lib/python3.8/site-packages/threadpoolctl.py\", line 646, in get_version\n",
      "    config = get_config().split()\n",
      "AttributeError: 'NoneType' object has no attribute 'split'\n"
     ]
    },
    {
     "name": "stdout",
     "output_type": "stream",
     "text": [
      "Fold #8: loss=2.117356283193681\n",
      "Fold #9: loss=3.0532135963322586\n",
      "KNeighborsClassifier: Mean loss=3.243728844268491\n",
      "Model: 2 : RandomForestClassifier(n_jobs=-1)\n",
      "Fold #0: loss=0.4657177982691548\n",
      "Fold #1: loss=0.4346825805694879\n",
      "Fold #2: loss=0.4593868993445528\n",
      "Fold #3: loss=0.41674899522216713\n",
      "Fold #4: loss=0.4851849131056564\n",
      "Fold #5: loss=0.48473291073937\n",
      "Fold #6: loss=0.41274608628217674\n",
      "Fold #7: loss=0.47405291219252377\n",
      "Fold #8: loss=0.44974230059938286\n",
      "Fold #9: loss=0.46340159258241087\n",
      "RandomForestClassifier: Mean loss=0.45463969889068834\n",
      "Model: 3 : RandomForestClassifier(criterion='entropy', n_jobs=-1)\n",
      "Fold #0: loss=0.4511847247326708\n",
      "Fold #1: loss=0.42707704254926593\n",
      "Fold #2: loss=0.5550335199035183\n",
      "Fold #3: loss=0.42186970733328516\n",
      "Fold #4: loss=0.4794331756190797\n",
      "Fold #5: loss=0.4730559509802762\n",
      "Fold #6: loss=0.41116235817215196\n",
      "Fold #7: loss=0.46835919493314265\n",
      "Fold #8: loss=0.4496144890690015\n",
      "Fold #9: loss=0.4625902934553457\n",
      "RandomForestClassifier: Mean loss=0.4599380456747738\n",
      "Model: 4 : ExtraTreesClassifier(n_jobs=-1)\n",
      "Fold #0: loss=0.45496751079363495\n",
      "Fold #1: loss=0.5013051157905043\n",
      "Fold #2: loss=0.5886179891724027\n",
      "Fold #3: loss=0.41646902160044674\n",
      "Fold #4: loss=0.4957910697444236\n",
      "Fold #5: loss=0.4773401028797005\n",
      "Fold #6: loss=0.41935061504547827\n",
      "Fold #7: loss=0.5757908399174205\n",
      "Fold #8: loss=0.4585195863412778\n",
      "Fold #9: loss=0.6210675972963805\n",
      "ExtraTreesClassifier: Mean loss=0.500921944858167\n",
      "Model: 5 : ExtraTreesClassifier(criterion='entropy', n_jobs=-1)\n",
      "Fold #0: loss=0.44825346440152214\n",
      "Fold #1: loss=0.40764412171784686\n",
      "Fold #2: loss=0.5819367378417363\n",
      "Fold #3: loss=0.4140589874942631\n",
      "Fold #4: loss=0.4923489720481471\n",
      "Fold #5: loss=0.5744429921555051\n",
      "Fold #6: loss=0.42334390524742155\n",
      "Fold #7: loss=0.6409291880353659\n",
      "Fold #8: loss=0.45627884947155956\n",
      "Fold #9: loss=0.466653395317917\n",
      "ExtraTreesClassifier: Mean loss=0.49058906137312847\n",
      "Model: 6 : GradientBoostingClassifier(learning_rate=0.05, max_depth=6, n_estimators=50,\n",
      "                           subsample=0.5)\n",
      "Fold #0: loss=0.4789324034433162\n",
      "Fold #1: loss=0.4573129674704844\n",
      "Fold #2: loss=0.47057741836357014\n",
      "Fold #3: loss=0.447803074821278\n",
      "Fold #4: loss=0.4883293501002484\n",
      "Fold #5: loss=0.4843521206311074\n",
      "Fold #6: loss=0.4436043855503229\n",
      "Fold #7: loss=0.45950746911784374\n",
      "Fold #8: loss=0.46632256794136323\n",
      "Fold #9: loss=0.4676684170721868\n",
      "GradientBoostingClassifier: Mean loss=0.46644101745117217\n",
      "\n",
      "Blending models.\n"
     ]
    }
   ],
   "source": [
    "# HIDE OUTPUT\n",
    "import numpy as np\n",
    "import os\n",
    "import pandas as pd\n",
    "import math\n",
    "from tensorflow.keras.wrappers.scikit_learn import KerasClassifier\n",
    "from sklearn.neighbors import KNeighborsClassifier\n",
    "from sklearn.model_selection import StratifiedKFold\n",
    "from sklearn.ensemble import RandomForestClassifier \n",
    "from sklearn.ensemble import ExtraTreesClassifier\n",
    "from sklearn.ensemble import GradientBoostingClassifier\n",
    "from sklearn.linear_model import LogisticRegression\n",
    "\n",
    "SHUFFLE = False\n",
    "FOLDS = 10\n",
    "\n",
    "def build_ann(input_size,classes,neurons):\n",
    "    model = Sequential()\n",
    "    model.add(Dense(neurons, input_dim=input_size, activation='relu'))\n",
    "    model.add(Dense(1))\n",
    "    model.add(Dense(classes,activation='softmax'))\n",
    "    model.compile(loss='categorical_crossentropy', optimizer='adam')\n",
    "    return model\n",
    "\n",
    "def mlogloss(y_test, preds):\n",
    "    epsilon = 1e-15\n",
    "    sum = 0\n",
    "    for row in zip(preds,y_test):\n",
    "        x = row[0][row[1]]\n",
    "        x = max(epsilon,x)\n",
    "        x = min(1-epsilon,x)\n",
    "        sum+=math.log(x)\n",
    "    return( (-1/len(preds))*sum)\n",
    "\n",
    "def stretch(y):\n",
    "    return (y - y.min()) / (y.max() - y.min()) # min-max scale\n",
    "\n",
    "\n",
    "def blend_ensemble(x, y, x_submit):\n",
    "    kf = StratifiedKFold(FOLDS)\n",
    "    folds = list(kf.split(x,y))\n",
    "\n",
    "    models = [\n",
    "        KerasClassifier(build_fn=build_ann,neurons=20,\n",
    "                    input_size=x.shape[1],classes=2),\n",
    "        KNeighborsClassifier(n_neighbors=3),\n",
    "        RandomForestClassifier(n_estimators=100, n_jobs=-1, \n",
    "                               criterion='gini'),\n",
    "        RandomForestClassifier(n_estimators=100, n_jobs=-1, \n",
    "                               criterion='entropy'),\n",
    "        ExtraTreesClassifier(n_estimators=100, n_jobs=-1, \n",
    "                             criterion='gini'),\n",
    "        ExtraTreesClassifier(n_estimators=100, n_jobs=-1, \n",
    "                             criterion='entropy'),\n",
    "        GradientBoostingClassifier(learning_rate=0.05, \n",
    "                subsample=0.5, max_depth=6, n_estimators=50)]\n",
    "\n",
    "    dataset_blend_train = np.zeros((x.shape[0], len(models)))\n",
    "    dataset_blend_test = np.zeros((x_submit.shape[0], len(models)))\n",
    "\n",
    "    for j, model in enumerate(models):\n",
    "        print(\"Model: {} : {}\".format(j, model) )\n",
    "        fold_sums = np.zeros((x_submit.shape[0], len(folds)))\n",
    "        total_loss = 0\n",
    "        for i, (train, test) in enumerate(folds):\n",
    "            x_train = x[train]\n",
    "            y_train = y[train]\n",
    "            x_test = x[test]\n",
    "            y_test = y[test]\n",
    "            model.fit(x_train, y_train)\n",
    "            pred = np.array(model.predict_proba(x_test))\n",
    "            dataset_blend_train[test, j] = pred[:, 1]\n",
    "            pred2 = np.array(model.predict_proba(x_submit))\n",
    "            fold_sums[:, i] = pred2[:, 1]\n",
    "            loss = mlogloss(y_test, pred)\n",
    "            total_loss+=loss\n",
    "            print(\"Fold #{}: loss={}\".format(i,loss))\n",
    "        print(\"{}: Mean loss={}\".format(model.__class__.__name__,\n",
    "                                        total_loss/len(folds)))\n",
    "        dataset_blend_test[:, j] = fold_sums.mean(1)\n",
    "\n",
    "    print()\n",
    "    print(\"Blending models.\")\n",
    "    blend = LogisticRegression(solver='lbfgs')\n",
    "    blend.fit(dataset_blend_train, y)\n",
    "    return blend.predict_proba(dataset_blend_test)\n",
    "\n",
    "if __name__ == '__main__':\n",
    "\n",
    "    np.random.seed(42)  # seed to shuffle the train set\n",
    "\n",
    "    print(\"Loading data...\")\n",
    "    URL = \"https://data.heatonresearch.com/data/t81-558/kaggle/\"\n",
    "\n",
    "    df_train = pd.read_csv(\n",
    "        URL+\"bio_train.csv\", \n",
    "        na_values=['NA', '?'])\n",
    "\n",
    "    df_submit = pd.read_csv(\n",
    "        URL+\"bio_test.csv\", \n",
    "        na_values=['NA', '?'])\n",
    "\n",
    "    predictors = list(df_train.columns.values)\n",
    "    predictors.remove('Activity')\n",
    "    x = df_train[predictors].values\n",
    "    y = df_train['Activity']\n",
    "    x_submit = df_submit.values\n",
    "\n",
    "    if SHUFFLE:\n",
    "        idx = np.random.permutation(y.size)\n",
    "        x = x[idx]\n",
    "        y = y[idx]\n",
    "\n",
    "    submit_data = blend_ensemble(x, y, x_submit)\n",
    "    submit_data = stretch(submit_data)\n",
    "\n",
    "    ####################\n",
    "    # Build submit file\n",
    "    ####################\n",
    "    ids = [id+1 for id in range(submit_data.shape[0])]\n",
    "    submit_df = pd.DataFrame({'MoleculeId': ids, \n",
    "                              'PredictedProbability': \n",
    "                              submit_data[:, 1]},\n",
    "                             columns=['MoleculeId',\n",
    "                            'PredictedProbability'])\n",
    "    submit_df.to_csv(\"submit.csv\", index=False)"
   ]
  },
  {
   "cell_type": "code",
   "execution_count": 13,
   "metadata": {
    "id": "dBfgUuateV5d"
   },
   "outputs": [
    {
     "data": {
      "text/plain": [
       "(2501, 2)"
      ]
     },
     "execution_count": 13,
     "metadata": {},
     "output_type": "execute_result"
    }
   ],
   "source": [
    "submit_df.shape"
   ]
  }
 ],
 "metadata": {
  "anaconda-cloud": {},
  "colab": {
   "collapsed_sections": [],
   "name": "Copy of t81_558_class_08_2_keras_ensembles.ipynb",
   "provenance": []
  },
  "kernelspec": {
   "display_name": "tensorflow",
   "language": "python",
   "name": "python3"
  },
  "language_info": {
   "codemirror_mode": {
    "name": "ipython",
    "version": 3
   },
   "file_extension": ".py",
   "mimetype": "text/x-python",
   "name": "python",
   "nbconvert_exporter": "python",
   "pygments_lexer": "ipython3",
   "version": "3.8.16"
  }
 },
 "nbformat": 4,
 "nbformat_minor": 1
}
